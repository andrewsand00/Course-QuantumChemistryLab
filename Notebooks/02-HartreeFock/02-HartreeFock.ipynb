{
 "cells": [
  {
   "cell_type": "markdown",
   "metadata": {},
   "source": [
    "# Psi4 Tutorial 02: Hartree–Fock Theory\n",
    "\n",
    "In this tutorial you will explore Hartree-Fock computations with psi4.\n",
    "\n",
    "As usual, we start with the important stuff: import psi4"
   ]
  },
  {
   "cell_type": "code",
   "execution_count": 1,
   "metadata": {},
   "outputs": [],
   "source": [
    "import psi4"
   ]
  },
  {
   "cell_type": "markdown",
   "metadata": {},
   "source": [
    "## Ne atom\n",
    "\n",
    "Let us start by performing a computation on the Ne atom using Hartree–Fock theory and the cc-pVDZ basis set"
   ]
  },
  {
   "cell_type": "code",
   "execution_count": null,
   "metadata": {},
   "outputs": [],
   "source": [
    "psi4.core.set_output_file('output.ar.dat', False)\n",
    "\n",
    "ar_geom = psi4.geometry(\"\"\"\n",
    "0 1\n",
    "Ar 0.0 0.0 0.0\n",
    "\"\"\")\n",
    "\n",
    "energy = psi4.energy('scf/cc-pvdz', molecule=ar_geom)"
   ]
  },
  {
   "cell_type": "markdown",
   "metadata": {},
   "source": [
    "To analyze the results of a Hartree–Fock computation, we can look at the output file under the section labeled `==> Post-Iterations <==`.\n",
    "\n",
    "You should be able to find this block of text\n",
    "```\n",
    "  ==> Post-Iterations <==\n",
    "\n",
    "    Orbital Energies [Eh]\n",
    "    ---------------------\n",
    "\n",
    "    Doubly Occupied:                                                      \n",
    "\n",
    "       1Ag   -32.765665     2Ag    -1.918810     1B2u   -0.832115  \n",
    "       1B3u   -0.832115     1B1u   -0.832115  \n",
    "\n",
    "    Virtual:                                                              \n",
    "\n",
    "       2B3u    1.694660     2B2u    1.694660     2B1u    1.694660  \n",
    "       3Ag     2.159507     1B1g    5.197106     4Ag     5.197106  \n",
    "       1B3g    5.197106     1B2g    5.197106     5Ag     5.197106  \n",
    "```"
   ]
  },
  {
   "cell_type": "code",
   "execution_count": null,
   "metadata": {},
   "outputs": [],
   "source": [
    "!cat output.ar.dat"
   ]
  },
  {
   "cell_type": "markdown",
   "metadata": {},
   "source": [
    "The energies of the occupied orbitals are approximately related to ionization energies. Let's compute a few and convert them to units of eV"
   ]
  },
  {
   "cell_type": "code",
   "execution_count": null,
   "metadata": {},
   "outputs": [],
   "source": [
    "print(f'The 2p orbital ionization potential is {0.832115 * 27.211:.2f} eV')\n",
    "print(f'The 1s orbital ionization potential is {32.765665 * 27.211:.2f} eV')"
   ]
  },
  {
   "cell_type": "markdown",
   "metadata": {},
   "source": [
    "We can now compare the orbital energies to those from the *NIST Atomic Spectra Database Ionization Energies*\n",
    "\n",
    "https://physics.nist.gov/PhysRefData/ASD/ionEnergy.html\n",
    "\n",
    "Search for Ne I. The reported ionization energy to form Ne+ in the 2p$^5$ configuration is 21.564540 eV. This value is close to our predicted 22.54 eV."
   ]
  },
  {
   "cell_type": "code",
   "execution_count": null,
   "metadata": {},
   "outputs": [],
   "source": [
    "print(f'The 3p orbital ionization potential is {0.588024  * 27.211:.2f} eV')\n",
    "print(f'The 1s orbital ionization potential is {118.606289 * 27.211:.2f} eV')"
   ]
  },
  {
   "cell_type": "markdown",
   "metadata": {},
   "source": [
    "## The orbitals of water\n",
    "\n",
    "Next, we will compute the Hartree–Fock optimized geometry and orbitals of water. We are also going to generate orbital plots, and to do so we will call the function `psi4.cubeprop`. We will specify the number of MOs to plot otherwise we might end up generating too much data to store on disk! In this case we want to be able to see all the core + valence orbitals, which are 7 in total:\n",
    "```\n",
    "===========================================================\n",
    "atom     core + valence orbitals     orbitals per atom type\n",
    "-----------------------------------------------------------\n",
    " O     1s, 2s, 2p = 1 + 1 + 3 = 5              5\n",
    " H             1s = 1                          2\n",
    "-----------------------------------------------------------\n",
    "                                               7\n",
    "===========================================================\n",
    "```"
   ]
  },
  {
   "cell_type": "code",
   "execution_count": 5,
   "metadata": {},
   "outputs": [],
   "source": [
    "psi4.core.set_output_file('output.h2o.dat', False)\n",
    "\n",
    "mol = psi4.geometry(\"\"\"\n",
    "0 1\n",
    "O\n",
    "H 1 1.0\n",
    "H 1 1.0 2 104.5\n",
    "\"\"\")\n",
    "\n",
    "psi4.set_options({\n",
    "    'CUBEPROP_TASKS': ['ORBITALS','DENSITY'],\n",
    "    'CUBEPROP_ORBITALS': [1,2,3,4,5,6,7],\n",
    "    'reference' : \"RHF\"\n",
    "})\n",
    "\n",
    "e, wfn = psi4.energy('scf/cc-pvdz',mol=mol,return_wfn=True)\n",
    "\n",
    "# e, wfn = psi4.energy('scf/cc-pvdz',molecule=h2o_geom,return_wfn=True)\n",
    "psi4.cubeprop(wfn)"
   ]
  },
  {
   "cell_type": "code",
   "execution_count": 7,
   "metadata": {},
   "outputs": [
    {
     "data": {
      "text/plain": [
       "(array([-20.55785023,  -1.31618593,  -0.55872304,   0.1780159 ,\n",
       "          0.81614408,   1.16634735,   1.4528803 ,   1.87740921,\n",
       "          2.3886313 ,   3.45460762,   3.8219673 ]),\n",
       " array([1.46653353, 3.29836408]),\n",
       " array([-0.49037528,  1.19868616,  1.66851524,  3.24943365]),\n",
       " array([-0.67707619,  0.24948637,  0.76031162,  1.25657656,  1.89044252,\n",
       "         2.35507556,  4.09933494]))"
      ]
     },
     "execution_count": 7,
     "metadata": {},
     "output_type": "execute_result"
    }
   ],
   "source": [
    "wfn.epsilon_a().nph"
   ]
  },
  {
   "cell_type": "code",
   "execution_count": 18,
   "metadata": {},
   "outputs": [
    {
     "name": "stdout",
     "output_type": "stream",
     "text": [
      "CubeViewer: listing cube files from the directory .\n",
      "Reading 18 cube files\n"
     ]
    },
    {
     "name": "stderr",
     "output_type": "stream",
     "text": [
      "/Users/fevange/miniforge3/envs/forte/lib/python3.9/site-packages/jupyter_client/session.py:716: UserWarning: Message serialization failed with:\n",
      "Out of range float values are not JSON compliant\n",
      "Supporting this message is deprecated in jupyter-client 7, please make sure your message is JSON-compliant\n",
      "  content = self.pack(content)\n"
     ]
    },
    {
     "data": {
      "application/vnd.jupyter.widget-view+json": {
       "model_id": "b81c012e2c6c4e7e98db5a40b0dc7f4d",
       "version_major": 2,
       "version_minor": 0
      },
      "text/plain": [
       "VBox(children=(HTML(value=''), Renderer(camera=OrthographicCamera(bottom=-5.0, children=(DirectionalLight(colo…"
      ]
     },
     "metadata": {},
     "output_type": "display_data"
    },
    {
     "data": {
      "application/vnd.jupyter.widget-view+json": {
       "model_id": "98032038289f4e1eadf12cc7adb6aaf5",
       "version_major": 2,
       "version_minor": 0
      },
      "text/plain": [
       "HTML(value='\\n        <style>\\n           .jupyter-widgets-output-area .output_scroll {\\n                heigh…"
      ]
     },
     "metadata": {},
     "output_type": "display_data"
    },
    {
     "data": {
      "application/vnd.jupyter.widget-view+json": {
       "model_id": "1d041d06c2fa43dd96ea05088223cb93",
       "version_major": 2,
       "version_minor": 0
      },
      "text/plain": [
       "interactive(children=(Select(description='Cube files:', options=('Density (alpha)', 'Density (beta)', 'Density…"
      ]
     },
     "metadata": {},
     "output_type": "display_data"
    },
    {
     "data": {
      "text/plain": [
       "<fortecubeview.cube_viewer.CubeViewer at 0x28b26b6a0>"
      ]
     },
     "execution_count": 18,
     "metadata": {},
     "output_type": "execute_result"
    }
   ],
   "source": [
    "import fortecubeview\n",
    "fortecubeview.plot()"
   ]
  },
  {
   "cell_type": "code",
   "execution_count": null,
   "metadata": {},
   "outputs": [],
   "source": [
    "!cat output.h2o.dat"
   ]
  },
  {
   "cell_type": "markdown",
   "metadata": {},
   "source": [
    "Orbital energies for water can be found on the NIST website: https://physics.nist.gov/cgi-bin/Ionization/table.pl?ionization=H2O\n",
    "\n",
    "\n",
    "```\n",
    "Molecular Orbital Constants\n",
    "Orbital\tBinding energy (eV)\n",
    "  2a1\t     36.88\n",
    "  1b2\t     19.83\n",
    "  3a1\t     15.57\n",
    "  1b1\t     12.61\n",
    "```\n",
    "\n",
    "These compare well with the values predicted by theory"
   ]
  },
  {
   "cell_type": "code",
   "execution_count": 20,
   "metadata": {},
   "outputs": [
    {
     "name": "stdout",
     "output_type": "stream",
     "text": [
      "The 2A1 orbital ionization potential is 36.53 eV\n",
      "The 1B2 orbital ionization potential is 19.20 eV\n",
      "The 3A1 orbital ionization potential is 15.47 eV\n",
      "The 1B1 orbital ionization potential is 13.44 eV\n"
     ]
    }
   ],
   "source": [
    "print(f'The 2A1 orbital ionization potential is {1.342334 * 27.211:.2f} eV')\n",
    "print(f'The 1B2 orbital ionization potential is {0.705499 * 27.211:.2f} eV')\n",
    "print(f'The 3A1 orbital ionization potential is {0.568413 * 27.211:.2f} eV')\n",
    "print(f'The 1B1 orbital ionization potential is {0.493926 * 27.211:.2f} eV')"
   ]
  },
  {
   "cell_type": "markdown",
   "metadata": {},
   "source": [
    "## Best practices for generating MOs\n",
    "\n",
    "Several options control the generation of the cube files used to represent 3D orbital information. The most useful are:\n",
    "\n",
    "- `CUBEPROP_TASKS`. This option tells psi4 what type of quantity to plot. Options include: `DENSITY` (electron density), `ESP` (electrostatic potential), `ORBITALS` (orbitals), `BASIS_FUNCTIONS` (atomic basis functions), `FRONTIER_ORBITALS` (HOMO, LUMO). You can specify multiple tasks by passing a list, e.g.:\n",
    "```python\n",
    "psi4.set_options({CUBEPROP_TASKS : ['ORBITALS', 'DENSITY'], ...})\n",
    "```\n",
    "\n",
    "- `CUBEPROP_FILEPATH`. The path where the cube file are stored. The default is the current directory (the one in which you are running the jupyter notebook). It is convenient to keep files organized to store the cube files in a different directory.\n",
    "\n",
    "- `CUBEPROP_ORBITALS`. This is List of orbital indices for which cube files are generated (1-based). Positive numbers stand for alpha orbitals, negative numbers for beta. If this option is not probided **all orbitals are computed!** (unless you set `'CUBEPROP_TASKS' : ['FRONTIER_ORBITALS']`)\n",
    "\n",
    "- `CUBIC_GRID_SPACING`. This option specifies the spacing of the grid in the X, Y, Z directions. Defaults to 0.2 bohr each. To make the grid finer you cand od\n",
    "```python\n",
    "psi4.set_options({CUBIC_GRID_SPACING : [0.1,0.1,0.1], ...})\n",
    "```\n",
    "\n",
    "- `CUBIC_GRID_OVERAGE`. This option controls the spatial extent (in bohr) of the grid. The fefault is 4.0 bohr in each direction. If your orbitals get cut out you can try to make the overage bigger\n",
    "```python\n",
    "psi4.set_options({CUBIC_GRID_OVERAGE : [6.0,6.0,6.0], ...})\n",
    "```\n",
    "\n",
    "\n",
    "This example shows a good way to perform a computation and plot the orbitals"
   ]
  },
  {
   "cell_type": "code",
   "execution_count": 31,
   "metadata": {},
   "outputs": [
    {
     "name": "stdout",
     "output_type": "stream",
     "text": [
      "mkdir: h2_mos: File exists\r\n"
     ]
    }
   ],
   "source": [
    "# make a directory called h2_mos where we will store all the cube files\n",
    "!mkdir h2_mos\n",
    "\n",
    "# setup computation\n",
    "psi4.core.set_output_file('output.h2.dat', False)\n",
    "\n",
    "h2_geom = psi4.geometry(\"\"\"\n",
    "H\n",
    "H 1 1.74\n",
    "\"\"\")\n",
    "\n",
    "psi4.set_options({\n",
    "    'CUBEPROP_TASKS': ['ORBITALS','DENSITY'],\n",
    "    'CUBEPROP_ORBITALS': [1,2,3,4],\n",
    "    'CUBEPROP_FILEPATH': 'h2_mos',\n",
    "    \n",
    "})\n",
    "\n",
    "# run the energy computation\n",
    "e, wfn = psi4.energy('scf/cc-pvdz',molecule=h2_geom,return_wfn=True)\n",
    "\n",
    "# generate the cube files\n",
    "psi4.cubeprop(wfn)"
   ]
  },
  {
   "cell_type": "markdown",
   "metadata": {},
   "source": [
    "If we list the files in the folder `h2_mos` with the command `ls` we should find all the cube files for the density (Da.cube, Db.cube, ...) and the orbitals (Psi_a_1_1-Ag.cube,...), plus the geometry of the molecule (geom.xyz)."
   ]
  },
  {
   "cell_type": "code",
   "execution_count": 22,
   "metadata": {},
   "outputs": [
    {
     "name": "stdout",
     "output_type": "stream",
     "text": [
      "total 16648\r\n",
      "-rw-r--r--  1 fevange  EMORYUNIVAD\\Domain Users  1062753 Sep 14 15:07 Da.cube\r\n",
      "-rw-r--r--  1 fevange  EMORYUNIVAD\\Domain Users  1062753 Sep 14 15:07 Db.cube\r\n",
      "-rw-r--r--  1 fevange  EMORYUNIVAD\\Domain Users  1062744 Sep 14 15:07 Ds.cube\r\n",
      "-rw-r--r--  1 fevange  EMORYUNIVAD\\Domain Users  1062753 Sep 14 15:07 Dt.cube\r\n",
      "-rw-r--r--  1 fevange  EMORYUNIVAD\\Domain Users  1062751 Sep 14 15:07 Psi_a_1_1-Ag.cube\r\n",
      "-rw-r--r--  1 fevange  EMORYUNIVAD\\Domain Users  1062760 Sep 14 15:07 Psi_a_2_1-B1u.cube\r\n",
      "-rw-r--r--  1 fevange  EMORYUNIVAD\\Domain Users  1062761 Sep 14 15:07 Psi_a_3_2-Ag.cube\r\n",
      "-rw-r--r--  1 fevange  EMORYUNIVAD\\Domain Users  1062762 Sep 14 15:07 Psi_a_4_2-B1u.cube\r\n",
      "-rw-r--r--  1 fevange  EMORYUNIVAD\\Domain Users      159 Sep 14 15:07 geom.xyz\r\n"
     ]
    }
   ],
   "source": [
    "!ls -l h2_mos"
   ]
  },
  {
   "cell_type": "markdown",
   "metadata": {},
   "source": [
    "Now we can plot the orbitals, customizing their look!\n",
    "\n",
    "Try some of the color schemes: `colorschemes = ['emory', 'national', 'bright', 'electron', 'wow']`\n",
    "\n",
    "Some of the argument passed to the plot function are trivial. An interesting one is `sumlevel`. This controls the fraction of electron density (a number between 0 and 1) that we want to plot. The default is 0.85 (85%). This means that the contour plotted contains 85% of the electron density for a given orbital (or the total density)."
   ]
  },
  {
   "cell_type": "code",
   "execution_count": 28,
   "metadata": {},
   "outputs": [
    {
     "name": "stdout",
     "output_type": "stream",
     "text": [
      "CubeViewer: listing cube files from the directory h2_mos\n",
      "Reading 8 cube files\n"
     ]
    },
    {
     "data": {
      "application/vnd.jupyter.widget-view+json": {
       "model_id": "c0c9ff41f1ec47269817018cad76f611",
       "version_major": 2,
       "version_minor": 0
      },
      "text/plain": [
       "VBox(children=(HTML(value=''), Renderer(camera=OrthographicCamera(bottom=-3.3333333333333335, children=(Direct…"
      ]
     },
     "metadata": {},
     "output_type": "display_data"
    },
    {
     "data": {
      "application/vnd.jupyter.widget-view+json": {
       "model_id": "2babc743ec434df097153a13317a3802",
       "version_major": 2,
       "version_minor": 0
      },
      "text/plain": [
       "HTML(value='\\n        <style>\\n           .jupyter-widgets-output-area .output_scroll {\\n                heigh…"
      ]
     },
     "metadata": {},
     "output_type": "display_data"
    },
    {
     "data": {
      "application/vnd.jupyter.widget-view+json": {
       "model_id": "bd9d3f67306b4b828d74ec3fe7b3878c",
       "version_major": 2,
       "version_minor": 0
      },
      "text/plain": [
       "interactive(children=(Select(description='Cube files:', options=('Density (alpha)', 'Density (beta)', 'Density…"
      ]
     },
     "metadata": {},
     "output_type": "display_data"
    },
    {
     "data": {
      "text/plain": [
       "<fortecubeview.cube_viewer.CubeViewer at 0x2af1ffb50>"
      ]
     },
     "execution_count": 28,
     "metadata": {},
     "output_type": "execute_result"
    }
   ],
   "source": [
    "fortecubeview.plot('h2_mos',sumlevel=0.75,colorscheme='electron',width=600,height=400,font_family='Times New Roman')"
   ]
  },
  {
   "cell_type": "markdown",
   "metadata": {},
   "source": [
    "## A script to monitor SCF convergence\n",
    "\n",
    "The following function can be used to plot the energy convergence of the Hartree–Fock procedure. Just pass the name of the output file that you want to analyze"
   ]
  },
  {
   "cell_type": "code",
   "execution_count": 29,
   "metadata": {},
   "outputs": [],
   "source": [
    "import matplotlib.pyplot as plt\n",
    "\n",
    "def plot_scf_energy(filename):\n",
    "    \"\"\"\n",
    "    Function to plot the energy during a SCF computation.\n",
    "\n",
    "    Usage: plot_scf_energy(filename)\n",
    "\n",
    "    Inputs: name of psi4 output file from SCF calculation\n",
    "    filename: name\n",
    "\n",
    "    Output: plot of energy values from each SCF step\n",
    "    \"\"\"\n",
    "\n",
    "    with open(filename) as f:\n",
    "        energy_values = []\n",
    "        for line in f:\n",
    "            if line.strip().startswith('@DF-') or line.strip().startswith('@RHF') or line.strip().startswith('@RKS'):\n",
    "                energy_values.append(float(line.split()[3]))\n",
    "        iteration = list(range(len(energy_values)))\n",
    "    \n",
    "    plt.plot(iteration,energy_values,'o')\n",
    "    plt.xlabel('iteration')\n",
    "    plt.ylabel('energy (Eh)')\n",
    "    plt.title(' SCF Convergenge')\n",
    "    plt.show()"
   ]
  },
  {
   "cell_type": "code",
   "execution_count": 30,
   "metadata": {},
   "outputs": [
    {
     "data": {
      "image/png": "[encoded data removed]",
      "text/plain": [
       "<Figure size 432x288 with 1 Axes>"
      ]
     },
     "metadata": {
      "needs_background": "light"
     },
     "output_type": "display_data"
    }
   ],
   "source": [
    "plot_scf_energy('output.h2.dat')"
   ]
  },
  {
   "cell_type": "code",
   "execution_count": 32,
   "metadata": {},
   "outputs": [
    {
     "data": {
      "image/png": "[encoded data removed]",
      "text/plain": [
       "<Figure size 432x288 with 1 Axes>"
      ]
     },
     "metadata": {
      "needs_background": "light"
     },
     "output_type": "display_data"
    }
   ],
   "source": [
    "plot_scf_energy('output.h2.dat')"
   ]
  },
  {
   "cell_type": "code",
   "execution_count": null,
   "metadata": {},
   "outputs": [],
   "source": []
  }
 ],
 "metadata": {
  "kernelspec": {
   "display_name": "Python 3 (ipykernel)",
   "language": "python",
   "name": "python3"
  },
  "language_info": {
   "codemirror_mode": {
    "name": "ipython",
    "version": 3
   },
   "file_extension": ".py",
   "mimetype": "text/x-python",
   "name": "python",
   "nbconvert_exporter": "python",
   "pygments_lexer": "ipython3",
   "version": "3.9.12"
  }
 },
 "nbformat": 4,
 "nbformat_minor": 4
}
