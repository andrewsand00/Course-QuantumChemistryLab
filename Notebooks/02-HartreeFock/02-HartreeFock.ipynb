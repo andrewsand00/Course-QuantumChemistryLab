{
 "cells": [
  {
   "cell_type": "markdown",
   "metadata": {},
   "source": [
    "# Psi4 Tutorial 02: Hartree–Fock Theory\n",
    "\n",
    "In this tutorial you will explore Hartree-Fock computations with psi4.\n",
    "\n",
    "As usual, we start with the important stuff: import psi4, set the total memory, and output file"
   ]
  },
  {
   "cell_type": "code",
   "execution_count": 1,
   "metadata": {},
   "outputs": [
    {
     "data": {
      "text/plain": [
       "500000000"
      ]
     },
     "execution_count": 1,
     "metadata": {},
     "output_type": "execute_result"
    }
   ],
   "source": [
    "import psi4\n",
    "psi4.set_memory('0.5 GB')"
   ]
  },
  {
   "cell_type": "markdown",
   "metadata": {},
   "source": [
    "## Ne atom\n",
    "\n",
    "Let us start by performing a computation on the Ne atom using Hartree–Fock theory and the cc-pVDZ basis set"
   ]
  },
  {
   "cell_type": "code",
   "execution_count": null,
   "metadata": {},
   "outputs": [],
   "source": [
    "psi4.core.set_output_file('output.ne.dat', False)\n",
    "\n",
    "ne_geom = psi4.geometry(\"\"\"\n",
    "0 1\n",
    "Ne\n",
    "\"\"\")\n",
    "\n",
    "energy = psi4.energy('scf/cc-pvdz', molecule=ne_geom)"
   ]
  },
  {
   "cell_type": "markdown",
   "metadata": {},
   "source": [
    "To analyze the results of a Hartree–Fock computation, we can look at the output file under the section labeled `==> Post-Iterations <==`.\n",
    "\n",
    "You should be able to find this block of text\n",
    "```\n",
    "  ==> Post-Iterations <==\n",
    "\n",
    "    Orbital Energies [Eh]\n",
    "    ---------------------\n",
    "\n",
    "    Doubly Occupied:                                                      \n",
    "\n",
    "       1Ag   -32.765665     2Ag    -1.918810     1B2u   -0.832115  \n",
    "       1B3u   -0.832115     1B1u   -0.832115  \n",
    "\n",
    "    Virtual:                                                              \n",
    "\n",
    "       2B3u    1.694660     2B2u    1.694660     2B1u    1.694660  \n",
    "       3Ag     2.159507     1B1g    5.197106     4Ag     5.197106  \n",
    "       1B3g    5.197106     1B2g    5.197106     5Ag     5.197106  \n",
    "```"
   ]
  },
  {
   "cell_type": "code",
   "execution_count": null,
   "metadata": {},
   "outputs": [],
   "source": [
    "!cat output.ne.dat"
   ]
  },
  {
   "cell_type": "markdown",
   "metadata": {},
   "source": [
    "The energies of the occupied orbitals are approximately related to ionization energies. Let's compute a few and convert them to units of eV"
   ]
  },
  {
   "cell_type": "code",
   "execution_count": null,
   "metadata": {},
   "outputs": [],
   "source": [
    "print(f'The 2p orbital ionization potential is {0.832115 * 27.211:.2f} eV')\n",
    "print(f'The 1s orbital ionization potential is {32.765665 * 27.211:.2f} eV')"
   ]
  },
  {
   "cell_type": "markdown",
   "metadata": {},
   "source": [
    "We can now compare the orbital energies to those from the *NIST Atomic Spectra Database Ionization Energies*\n",
    "\n",
    "https://physics.nist.gov/PhysRefData/ASD/ionEnergy.html\n",
    "\n",
    "Search for Ne I. The reported ionization energy to form Ne+ in the 2p$^5$ configuration is 21.564540 eV. This value is close to our predicted 22.54 eV."
   ]
  },
  {
   "cell_type": "markdown",
   "metadata": {},
   "source": [
    "## The orbitals of water\n",
    "\n",
    "Next, we will compute the Hartree–Fock optimized geometry and orbitals of water. We are also going to generate orbital plots, and to do so we will call the function `psi4.cubeprop`. We will specify the number of MOs to plot otherwise we might end up generating too much data to store on disk! In this case we want to be able to see all the core + valence orbitals, which are 7 in total:\n",
    "```\n",
    "===========================================================\n",
    "atom     core + valence orbitals     orbitals per atom type\n",
    "-----------------------------------------------------------\n",
    " O     1s, 2s, 2p = 1 + 1 + 3 = 5              5\n",
    " H             1s = 1                          2\n",
    "-----------------------------------------------------------\n",
    "                                               7\n",
    "===========================================================\n",
    "```"
   ]
  },
  {
   "cell_type": "code",
   "execution_count": null,
   "metadata": {},
   "outputs": [],
   "source": [
    "psi4.core.set_output_file('output.h2o.dat', False)\n",
    "\n",
    "h2o_geom = psi4.geometry(\"\"\"\n",
    "O\n",
    "H 1 1.0\n",
    "H 1 1.0 2 104.5\n",
    "\"\"\")\n",
    "\n",
    "psi4.set_options({\n",
    "    'CUBEPROP_TASKS': ['ORBITALS','DENSITY'],\n",
    "    'CUBEPROP_ORBITALS': [1,2,3,4,5,6,7],\n",
    "})\n",
    "\n",
    "e, wfn = psi4.optimize('scf/cc-pvdz',molecule=h2o_geom,return_wfn=True)\n",
    "\n",
    "psi4.cubeprop(wfn)"
   ]
  },
  {
   "cell_type": "code",
   "execution_count": 2,
   "metadata": {},
   "outputs": [
    {
     "name": "stdout",
     "output_type": "stream",
     "text": [
      "CubeViewer: listing cube files from the directory .\n",
      "Reading 11 cube files\n"
     ]
    },
    {
     "name": "stderr",
     "output_type": "stream",
     "text": [
      "/Users/fevange/Source/fortecubeview/fortecubeview/py3js_renderer.py:1096: FutureWarning: marching_cubes_lewiner is deprecated in favor of marching_cubes. marching_cubes_lewiner will be removed in version 0.19\n",
      "  values = skimage.measure.marching_cubes_lewiner(data, level * 0.995)\n",
      "/Users/fevange/Source/fortecubeview/fortecubeview/cube_file.py:213: RuntimeWarning: invalid value encountered in double_scalars\n",
      "  if partial_sum / sum < fraction:\n"
     ]
    },
    {
     "data": {
      "application/vnd.jupyter.widget-view+json": {
       "model_id": "005444e9982649f6a42791d818af1f10",
       "version_major": 2,
       "version_minor": 0
      },
      "text/plain": [
       "VBox(children=(HTML(value=''), Renderer(camera=OrthographicCamera(bottom=-5.0, children=(DirectionalLight(colo…"
      ]
     },
     "metadata": {},
     "output_type": "display_data"
    },
    {
     "data": {
      "application/vnd.jupyter.widget-view+json": {
       "model_id": "da6eb665975145a89805b445d795324f",
       "version_major": 2,
       "version_minor": 0
      },
      "text/plain": [
       "HTML(value='\\n        <style>\\n           .jupyter-widgets-output-area .output_scroll {\\n                heigh…"
      ]
     },
     "metadata": {},
     "output_type": "display_data"
    },
    {
     "data": {
      "application/vnd.jupyter.widget-view+json": {
       "model_id": "e80e5f83a3894e90922874b16482d017",
       "version_major": 2,
       "version_minor": 0
      },
      "text/plain": [
       "interactive(children=(Select(description='Cube files:', options=('Density (alpha)', 'Density (beta)', 'Density…"
      ]
     },
     "metadata": {},
     "output_type": "display_data"
    },
    {
     "data": {
      "text/plain": [
       "<fortecubeview.cube_viewer.CubeViewer at 0x7fb2e9ba0490>"
      ]
     },
     "execution_count": 2,
     "metadata": {},
     "output_type": "execute_result"
    }
   ],
   "source": [
    "import fortecubeview\n",
    "fortecubeview.plot()"
   ]
  },
  {
   "cell_type": "code",
   "execution_count": null,
   "metadata": {},
   "outputs": [],
   "source": [
    "!cat output.h2o.dat"
   ]
  },
  {
   "cell_type": "markdown",
   "metadata": {},
   "source": [
    "Orbital energies for water can be found on the NIST website: https://physics.nist.gov/cgi-bin/Ionization/table.pl?ionization=H2O\n",
    "\n",
    "\n",
    "```\n",
    "Molecular Orbital Constants\n",
    "Orbital\tBinding energy (eV)\n",
    "  2a1\t     36.88\n",
    "  1b2\t     19.83\n",
    "  3a1\t     15.57\n",
    "  1b1\t     12.61\n",
    "```\n",
    "\n",
    "These compare well with the values predicted by theory"
   ]
  },
  {
   "cell_type": "code",
   "execution_count": null,
   "metadata": {},
   "outputs": [],
   "source": [
    "print(f'The 2A1 orbital ionization potential is {1.342334 * 27.211:.2f} eV')\n",
    "print(f'The 1B2 orbital ionization potential is {0.705499 * 27.211:.2f} eV')\n",
    "print(f'The 3A1 orbital ionization potential is {0.568413 * 27.211:.2f} eV')\n",
    "print(f'The 1B1 orbital ionization potential is {0.493926 * 27.211:.2f} eV')"
   ]
  },
  {
   "cell_type": "markdown",
   "metadata": {},
   "source": [
    "## Best practices for generating MOs\n",
    "\n",
    "Several options control the generation of the cube files used to represent 3D orbital information. The most useful are:\n",
    "\n",
    "- `CUBEPROP_TASKS`. This option tells psi4 what type of quantity to plot. Options include: `DENSITY` (electron density), `ESP` (electrostatic potential), `ORBITALS` (orbitals), `BASIS_FUNCTIONS` (atomic basis functions), `FRONTIER_ORBITALS` (HOMO, LUMO). You can specify multiple tasks by passing a list, e.g.:\n",
    "```python\n",
    "psi4.set_options({CUBEPROP_TASKS : ['ORBITALS', 'DENSITY'], ...})\n",
    "```\n",
    "\n",
    "- `CUBEPROP_FILEPATH`. The path where the cube file are stored. The default is the current directory (the one in which you are running the jupyter notebook). It is convenient to keep files organized to store the cube files in a different directory.\n",
    "\n",
    "- `CUBEPROP_ORBITALS`. This is List of orbital indices for which cube files are generated (1-based). Positive numbers stand for alpha orbitals, negative numbers for beta. If this option is not probided **all orbitals are computed!** (unless you set `'CUBEPROP_TASKS' : ['FRONTIER_ORBITALS']`)\n",
    "\n",
    "- `CUBIC_GRID_SPACING`. This option specifies the spacing of the grid in the X, Y, Z directions. Defaults to 0.2 bohr each. To make the grid finer you cand od\n",
    "```python\n",
    "psi4.set_options({CUBIC_GRID_SPACING : [0.1,0.1,0.1], ...})\n",
    "```\n",
    "\n",
    "- `CUBIC_GRID_OVERAGE`. This option controls the spatial extent (in bohr) of the grid. The fefault is 4.0 bohr in each direction. If your orbitals get cut out you can try to make the overage bigger\n",
    "```python\n",
    "psi4.set_options({CUBIC_GRID_OVERAGE : [6.0,6.0,6.0], ...})\n",
    "```\n",
    "\n",
    "\n",
    "This example shows a good way to perform a computation and plot the orbitals"
   ]
  },
  {
   "cell_type": "code",
   "execution_count": 3,
   "metadata": {},
   "outputs": [
    {
     "name": "stdout",
     "output_type": "stream",
     "text": [
      "mkdir: h2_mos: File exists\n"
     ]
    }
   ],
   "source": [
    "# make a directory called h2_mos where we will store all the cube files\n",
    "!mkdir h2_mos\n",
    "\n",
    "# setup computation\n",
    "psi4.core.set_output_file('output.h2.dat', False)\n",
    "\n",
    "h2_geom = psi4.geometry(\"\"\"\n",
    "H\n",
    "H 1 0.74\n",
    "\"\"\")\n",
    "\n",
    "psi4.set_options({\n",
    "    'CUBEPROP_TASKS': ['ORBITALS','DENSITY'],\n",
    "    'CUBEPROP_ORBITALS': [1,2,3,4],\n",
    "    'CUBEPROP_FILEPATH': 'h2_mos',\n",
    "    \n",
    "})\n",
    "\n",
    "# run the energy computation\n",
    "e, wfn = psi4.energy('scf/cc-pvdz',molecule=h2_geom,return_wfn=True)\n",
    "\n",
    "# generate the cube files\n",
    "psi4.cubeprop(wfn)"
   ]
  },
  {
   "cell_type": "markdown",
   "metadata": {},
   "source": [
    "If we list the files in the folder `h2_mos` with the command `ls` we should find all the cube files for the density (Da.cube, Db.cube, ...) and the orbitals (Psi_a_1_1-Ag.cube,...), plus the geometry of the molecule (geom.xyz)."
   ]
  },
  {
   "cell_type": "code",
   "execution_count": 4,
   "metadata": {},
   "outputs": [
    {
     "name": "stdout",
     "output_type": "stream",
     "text": [
      "total 17416\n",
      "-rw-r--r--  1 fevange  206888963  1062753 Sep 20 15:14 Da.cube\n",
      "-rw-r--r--  1 fevange  206888963  1062753 Sep 20 15:14 Db.cube\n",
      "-rw-r--r--  1 fevange  206888963  1062744 Sep 20 15:14 Ds.cube\n",
      "-rw-r--r--  1 fevange  206888963  1062753 Sep 20 15:14 Dt.cube\n",
      "-rw-r--r--  1 fevange  206888963  1062751 Sep 20 15:14 Psi_a_1_1-Ag.cube\n",
      "-rw-r--r--  1 fevange  206888963  1062760 Sep 20 15:14 Psi_a_2_1-B1u.cube\n",
      "-rw-r--r--  1 fevange  206888963  1062761 Sep 20 15:14 Psi_a_3_2-Ag.cube\n",
      "-rw-r--r--  1 fevange  206888963  1062762 Sep 20 15:14 Psi_a_4_2-B1u.cube\n",
      "-rw-r--r--  1 fevange  206888963      159 Sep 20 15:14 geom.xyz\n"
     ]
    }
   ],
   "source": [
    "!ls -l h2_mos"
   ]
  },
  {
   "cell_type": "markdown",
   "metadata": {},
   "source": [
    "Now we can plot the orbitals, customizing their look!\n",
    "\n",
    "Try some of the color schemes: `colorschemes = ['emory', 'national', 'bright', 'electron', 'wow']`\n",
    "\n",
    "Some of the argument passed to the plot function are trivial. An interesting one is `sumlevel`. This controls the fraction of electron density (a number between 0 and 1) that we want to plot. The default is 0.85 (85%). This means that the contour plotted contains 85% of the electron density for a given orbital (or the total density)."
   ]
  },
  {
   "cell_type": "code",
   "execution_count": 5,
   "metadata": {},
   "outputs": [
    {
     "name": "stdout",
     "output_type": "stream",
     "text": [
      "CubeViewer: listing cube files from the directory h2_mos\n",
      "Reading 8 cube files\n"
     ]
    },
    {
     "name": "stderr",
     "output_type": "stream",
     "text": [
      "/Users/fevange/Source/fortecubeview/fortecubeview/py3js_renderer.py:1096: FutureWarning: marching_cubes_lewiner is deprecated in favor of marching_cubes. marching_cubes_lewiner will be removed in version 0.19\n",
      "  values = skimage.measure.marching_cubes_lewiner(data, level * 0.995)\n",
      "/Users/fevange/Source/fortecubeview/fortecubeview/cube_file.py:213: RuntimeWarning: invalid value encountered in double_scalars\n",
      "  if partial_sum / sum < fraction:\n"
     ]
    },
    {
     "data": {
      "application/vnd.jupyter.widget-view+json": {
       "model_id": "0355def5d2bf4b53b41ce09fe9fe64a6",
       "version_major": 2,
       "version_minor": 0
      },
      "text/plain": [
       "VBox(children=(HTML(value=''), Renderer(camera=OrthographicCamera(bottom=-3.3333333333333335, children=(Direct…"
      ]
     },
     "metadata": {},
     "output_type": "display_data"
    },
    {
     "data": {
      "application/vnd.jupyter.widget-view+json": {
       "model_id": "558373ddcb7d4e6ab6a2233d05e73c6a",
       "version_major": 2,
       "version_minor": 0
      },
      "text/plain": [
       "HTML(value='\\n        <style>\\n           .jupyter-widgets-output-area .output_scroll {\\n                heigh…"
      ]
     },
     "metadata": {},
     "output_type": "display_data"
    },
    {
     "data": {
      "application/vnd.jupyter.widget-view+json": {
       "model_id": "581df73f8bb24669a684e870a0fac4fb",
       "version_major": 2,
       "version_minor": 0
      },
      "text/plain": [
       "interactive(children=(Select(description='Cube files:', options=('Density (alpha)', 'Density (beta)', 'Density…"
      ]
     },
     "metadata": {},
     "output_type": "display_data"
    },
    {
     "data": {
      "text/plain": [
       "<fortecubeview.cube_viewer.CubeViewer at 0x7fb2ed0548e0>"
      ]
     },
     "execution_count": 5,
     "metadata": {},
     "output_type": "execute_result"
    }
   ],
   "source": [
    "fortecubeview.plot('h2_mos',sumlevel=0.7,colorscheme='wow',width=600,height=400,font_family='Times New Roman')"
   ]
  },
  {
   "cell_type": "markdown",
   "metadata": {},
   "source": [
    "## A script to monitor SCF convergence\n",
    "\n",
    "The following function can be used to plot the energy convergence of the Hartree–Fock procedure. Just pass the name of the output file that you want to analyze"
   ]
  },
  {
   "cell_type": "code",
   "execution_count": 6,
   "metadata": {},
   "outputs": [],
   "source": [
    "import matplotlib.pyplot as plt\n",
    "\n",
    "def plot_scf_energy(filename):\n",
    "    \"\"\"\n",
    "    Function to plot the energy during a SCF computation.\n",
    "\n",
    "    Usage: plot_scf_energy(filename)\n",
    "\n",
    "    Inputs: name of psi4 output file from SCF calculation\n",
    "    filename: name\n",
    "\n",
    "    Output: plot of energy values from each SCF step\n",
    "    \"\"\"\n",
    "\n",
    "    with open(filename) as f:\n",
    "        energy_values = []\n",
    "        for line in f:\n",
    "            if line.strip().startswith('@DF-') or line.strip().startswith('@RHF') or line.strip().startswith('@RKS'):\n",
    "                energy_values.append(float(line.split()[3]))\n",
    "        iteration = list(range(len(energy_values)))\n",
    "    \n",
    "    plt.plot(iteration,energy_values,'o')\n",
    "    plt.xlabel('iteration')\n",
    "    plt.ylabel('energy (Eh)')\n",
    "    plt.title(' SCF Convergenge')\n",
    "    plt.show()"
   ]
  },
  {
   "cell_type": "code",
   "execution_count": 7,
   "metadata": {},
   "outputs": [
    {
     "data": {
      "image/png": "[encoded data removed]",
      "text/plain": [
       "<Figure size 432x288 with 1 Axes>"
      ]
     },
     "metadata": {
      "needs_background": "light"
     },
     "output_type": "display_data"
    }
   ],
   "source": [
    "plot_scf_energy('output.h2.dat')"
   ]
  },
  {
   "cell_type": "code",
   "execution_count": null,
   "metadata": {},
   "outputs": [],
   "source": []
  }
 ],
 "metadata": {
  "kernelspec": {
   "display_name": "Python 3 (ipykernel)",
   "language": "python",
   "name": "python3"
  },
  "language_info": {
   "codemirror_mode": {
    "name": "ipython",
    "version": 3
   },
   "file_extension": ".py",
   "mimetype": "text/x-python",
   "name": "python",
   "nbconvert_exporter": "python",
   "pygments_lexer": "ipython3",
   "version": "3.9.7"
  }
 },
 "nbformat": 4,
 "nbformat_minor": 4
}
