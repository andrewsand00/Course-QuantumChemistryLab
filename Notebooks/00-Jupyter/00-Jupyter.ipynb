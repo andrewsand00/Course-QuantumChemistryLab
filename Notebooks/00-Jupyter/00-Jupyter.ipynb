{
 "cells": [
  {
   "cell_type": "markdown",
   "id": "41468c5f",
   "metadata": {},
   "source": [
    "# A gentle introduction to Jupyter notebooks\n",
    "\n",
    "This notebook covers some of the basic aspects of the python programming language and the Jupyter notebook format. Other useful resources to learn python include\n",
    "- The W3 school (https://www.w3schools.com/python/default.asp)\n",
    "- Youtube\n",
    "\n",
    "If you get stuck, it might be a good idea to do a Google search and look for entries from the website stackoverflow.com\n",
    "\n",
    "For psi4 specific issues, consult:\n",
    "- the manual (https://psicode.org/psi4manual/master/index.html)\n",
    "- the forum (http://forum.psicode.org)"
   ]
  },
  {
   "cell_type": "markdown",
   "id": "1205cab2",
   "metadata": {},
   "source": [
    "## Code goes in cells\n",
    "\n",
    "Jupyter notebooks are composed of a collection of text and code cells. The following cell contains code. When you load up a notebook this cell is not executed. You have to tell Jupyter to runn the cell"
   ]
  },
  {
   "cell_type": "code",
   "execution_count": 1,
   "id": "20a9a46a",
   "metadata": {},
   "outputs": [
    {
     "data": {
      "text/plain": [
       "2"
      ]
     },
     "execution_count": 1,
     "metadata": {},
     "output_type": "execute_result"
    }
   ],
   "source": [
    "1 + 1"
   ]
  },
  {
   "cell_type": "markdown",
   "id": "1c42f08c",
   "metadata": {},
   "source": [
    "To run the code within a cell, select the cell (it will be surrounded by a colored box) and hit `shift + enter` on your keyboard. Try to execute the code in the next cell:"
   ]
  },
  {
   "cell_type": "code",
   "execution_count": 2,
   "id": "d6adc21e",
   "metadata": {},
   "outputs": [
    {
     "data": {
      "text/plain": [
       "15"
      ]
     },
     "execution_count": 2,
     "metadata": {},
     "output_type": "execute_result"
    }
   ],
   "source": [
    "7 + 3\n",
    "1 + 2 + 3 + 4 + 5"
   ]
  },
  {
   "cell_type": "markdown",
   "id": "fa313523",
   "metadata": {},
   "source": [
    "Only the result of the last sum (15) is printed out. That's how Jupyter works by default."
   ]
  },
  {
   "cell_type": "markdown",
   "id": "214c3238",
   "metadata": {},
   "source": [
    "## Getting documentation for python functions\n",
    "\n",
    "We will use many python functions. The best way to find out how to do things with python is to ask Google! But if you want to get all the details of a python function you can also use the `help` function. Here we get the docs for the `print` function used to print data"
   ]
  },
  {
   "cell_type": "code",
   "execution_count": null,
   "id": "98155948",
   "metadata": {},
   "outputs": [],
   "source": [
    "help(print)"
   ]
  },
  {
   "cell_type": "code",
   "execution_count": null,
   "id": "4cfb0adc",
   "metadata": {},
   "outputs": [],
   "source": [
    "print(1+2+3)"
   ]
  },
  {
   "cell_type": "markdown",
   "id": "9e312324",
   "metadata": {},
   "source": [
    "## Using terminal line commands in Jupyter\n",
    "To run terminal commands you can start a cell with `!`. Here we list all the files with the unix command `ls`"
   ]
  },
  {
   "cell_type": "code",
   "execution_count": null,
   "id": "5660f8f8",
   "metadata": {},
   "outputs": [],
   "source": [
    "!ls"
   ]
  },
  {
   "cell_type": "markdown",
   "id": "770c1df1",
   "metadata": {},
   "source": [
    "## Printing\n",
    "\n",
    "The function `print` can be used to print strings."
   ]
  },
  {
   "cell_type": "code",
   "execution_count": null,
   "id": "11a896a7",
   "metadata": {},
   "outputs": [],
   "source": [
    "print(\"Pythons and boas are the largest snakes in the world.\")"
   ]
  },
  {
   "cell_type": "markdown",
   "id": "dd489753",
   "metadata": {},
   "source": [
    "## Variables and basic types"
   ]
  },
  {
   "cell_type": "markdown",
   "id": "9ca49f3f",
   "metadata": {},
   "source": [
    "Integers are a fundamental type in python. Here we set the variable `this_variable` to the integer value 15. In the second line we print it"
   ]
  },
  {
   "cell_type": "code",
   "execution_count": null,
   "id": "7790f045",
   "metadata": {},
   "outputs": [],
   "source": [
    "this_variable = 15\n",
    "print(this_variable)"
   ]
  },
  {
   "cell_type": "code",
   "execution_count": null,
   "id": "7f1b7585",
   "metadata": {},
   "outputs": [],
   "source": [
    "type(this_variable)"
   ]
  },
  {
   "cell_type": "markdown",
   "id": "e5f05729",
   "metadata": {},
   "source": [
    "Python can do arbitrary precision aritmetic with integers. The next line computes $2^{1000}$:"
   ]
  },
  {
   "cell_type": "code",
   "execution_count": null,
   "id": "44c5f054",
   "metadata": {},
   "outputs": [],
   "source": [
    "2 ** 1000"
   ]
  },
  {
   "cell_type": "markdown",
   "id": "125131ee",
   "metadata": {},
   "source": [
    "Another fundamental data type is `float`, used to represent real numbers"
   ]
  },
  {
   "cell_type": "code",
   "execution_count": null,
   "id": "4848a73c",
   "metadata": {},
   "outputs": [],
   "source": [
    "x = 3.1415\n",
    "type(x)"
   ]
  },
  {
   "cell_type": "markdown",
   "id": "505038d9",
   "metadata": {},
   "source": [
    "Python also supports complex numbers (and uses a `j` instead of the symbol $i$ for the imaginary part). This is good to know, but we won't use them in this course"
   ]
  },
  {
   "cell_type": "code",
   "execution_count": null,
   "id": "e37f3daf",
   "metadata": {},
   "outputs": [],
   "source": [
    "z = 1 + 1.0j\n",
    "z * z"
   ]
  },
  {
   "cell_type": "markdown",
   "id": "9dd00f35",
   "metadata": {},
   "source": [
    "Strings are useful to represent text"
   ]
  },
  {
   "cell_type": "code",
   "execution_count": null,
   "id": "f4e6858a",
   "metadata": {},
   "outputs": [],
   "source": [
    "x = 'pi'\n",
    "type(x)"
   ]
  },
  {
   "cell_type": "markdown",
   "id": "2749cb81",
   "metadata": {},
   "source": [
    "You can input strings in different ways. We can use `'` or `\"` around text to input a string"
   ]
  },
  {
   "cell_type": "code",
   "execution_count": null,
   "id": "d9003dbb",
   "metadata": {},
   "outputs": [],
   "source": [
    "x = \"pi\"\n",
    "y = 'e'\n",
    "print(x,y)"
   ]
  },
  {
   "cell_type": "markdown",
   "id": "086b1a11",
   "metadata": {},
   "source": [
    "To enter blocks of text that span multiple lines, we can triple quotes `\"\"\"` or `'''`"
   ]
  },
  {
   "cell_type": "code",
   "execution_count": null,
   "id": "ca3a0a25",
   "metadata": {},
   "outputs": [],
   "source": [
    "geom = \"\"\"\n",
    "H\n",
    "H 1 1.0\n",
    "\"\"\"\n",
    "\n",
    "print(geom)"
   ]
  },
  {
   "cell_type": "markdown",
   "id": "e745dd46",
   "metadata": {},
   "source": [
    "Formatted strings are super useful. Here we print a float using different formats and plae python code inside a string"
   ]
  },
  {
   "cell_type": "code",
   "execution_count": null,
   "id": "4f827c01",
   "metadata": {},
   "outputs": [],
   "source": [
    "x = 0.123456789\n",
    "print(f'x = {x}')\n",
    "print(f'x = {x:.3f}')\n",
    "print(f'the square of x = {x * x:+.6f} = {x * x:e} (in scientific notation)')"
   ]
  },
  {
   "cell_type": "markdown",
   "id": "15b58dd0",
   "metadata": {},
   "source": [
    "There are limitations to the names we can give to variables. For example, variables cannot start with a number"
   ]
  },
  {
   "cell_type": "code",
   "execution_count": null,
   "id": "8e7d6d6a",
   "metadata": {
    "scrolled": true
   },
   "outputs": [],
   "source": [
    "1myvar = 10"
   ]
  },
  {
   "cell_type": "markdown",
   "id": "e9ec190b",
   "metadata": {},
   "source": [
    "When we try to assign the number 10 to the variable `1myvar`, we get the infamous `SyntaxError: invalid syntax` message! This means that parts of the code do not follow the syntax of python.\n",
    "\n",
    "When you see a message like this, you will have to go back to the code and try to understand what is causing the problem. Thankfully, python gives us some clues about the location of the error. Unfortunately, it does not explain why what we have done is incorrect."
   ]
  },
  {
   "cell_type": "markdown",
   "id": "cbb8b192",
   "metadata": {},
   "source": [
    "## Basic math"
   ]
  },
  {
   "cell_type": "code",
   "execution_count": null,
   "id": "5fb2c823",
   "metadata": {},
   "outputs": [],
   "source": [
    "3 + 8 # add"
   ]
  },
  {
   "cell_type": "code",
   "execution_count": null,
   "id": "b8164dae",
   "metadata": {},
   "outputs": [],
   "source": [
    "7 - 4 # subtract"
   ]
  },
  {
   "cell_type": "code",
   "execution_count": null,
   "id": "b387f534",
   "metadata": {},
   "outputs": [],
   "source": [
    "7 * 3 # multiply"
   ]
  },
  {
   "cell_type": "code",
   "execution_count": null,
   "id": "ec43d23a",
   "metadata": {},
   "outputs": [],
   "source": [
    "100 / 5 # real division"
   ]
  },
  {
   "cell_type": "code",
   "execution_count": null,
   "id": "e59a34f8",
   "metadata": {},
   "outputs": [],
   "source": [
    "100 // 5 # integer division"
   ]
  },
  {
   "cell_type": "code",
   "execution_count": null,
   "id": "3c14c5cf",
   "metadata": {},
   "outputs": [],
   "source": [
    "2**4 # 2 raised to the fourth power"
   ]
  },
  {
   "cell_type": "code",
   "execution_count": null,
   "id": "8fef8d78",
   "metadata": {},
   "outputs": [],
   "source": [
    "2**0.5 # square root of 2"
   ]
  },
  {
   "cell_type": "code",
   "execution_count": null,
   "id": "4cc00448",
   "metadata": {},
   "outputs": [],
   "source": [
    "21 % 5 # 21 mod 5 (remainder of division)\n",
    "print(21//5)"
   ]
  },
  {
   "cell_type": "markdown",
   "id": "a0c47293",
   "metadata": {},
   "source": [
    "## Code comments\n",
    "Sometimes you might want to leave comments directly in your code. Comments come after the `#` sign"
   ]
  },
  {
   "cell_type": "code",
   "execution_count": null,
   "id": "caed2d5b",
   "metadata": {},
   "outputs": [],
   "source": [
    "x = 5 # initialize x to 5"
   ]
  },
  {
   "cell_type": "markdown",
   "id": "a64de001",
   "metadata": {},
   "source": [
    "## Exercise: Solving a simple algebra problem\n",
    "\n",
    "Consider the following mathematical problem:\n",
    "\n",
    "> How many of the integers $n$ in the range 1 to 1300 are such that $n^2 + 1$ is divisible by 13?\n",
    "\n",
    "The following code loops over all the integers $n$ from 1 to 1300, computes $n^2 + 1$, and checks if this number is divisible by 13. If a number is divisible, then we increment the variable `count`."
   ]
  },
  {
   "cell_type": "code",
   "execution_count": null,
   "id": "d1ae9db5",
   "metadata": {},
   "outputs": [],
   "source": [
    "count = 0 # this will count the n\n",
    "# loop over all integers between 1 and 1300 (included)\n",
    "for n in range(1,1301):\n",
    "    val = n**2 + 1\n",
    "    remainder = val % 13\n",
    "    if remainder == 0:        \n",
    "        count += 1 # increment count by one\n",
    "        \n",
    "print('There are',count,'numbers divisible by 13')"
   ]
  },
  {
   "cell_type": "markdown",
   "id": "8ae172c2",
   "metadata": {},
   "source": [
    "---\n",
    "\n",
    "## Errors, errors, errors\n",
    "\n",
    "If we do something wrong, python will let us know and issue an error message. There are many different types of error messages. A common one is missing parentheses"
   ]
  },
  {
   "cell_type": "code",
   "execution_count": null,
   "id": "7dfaba73",
   "metadata": {},
   "outputs": [],
   "source": [
    "print \"hello\""
   ]
  },
  {
   "cell_type": "markdown",
   "id": "200d4b6b",
   "metadata": {},
   "source": [
    "Spelling things incorrectly can lead to errors. In this case python complains that the psi5 module cannot be found"
   ]
  },
  {
   "cell_type": "code",
   "execution_count": null,
   "id": "210d1b87",
   "metadata": {},
   "outputs": [],
   "source": [
    "import psi5"
   ]
  },
  {
   "cell_type": "markdown",
   "id": "e045a19e",
   "metadata": {},
   "source": [
    "Another common error is mixing data types"
   ]
  },
  {
   "cell_type": "code",
   "execution_count": null,
   "id": "f777d26e",
   "metadata": {},
   "outputs": [],
   "source": [
    "'100' + 200"
   ]
  },
  {
   "cell_type": "markdown",
   "id": "ad6e771f",
   "metadata": {},
   "source": [
    "Here we are using `x` but this variable is not defined "
   ]
  },
  {
   "cell_type": "code",
   "execution_count": null,
   "id": "705950d2",
   "metadata": {},
   "outputs": [],
   "source": [
    "x + 1"
   ]
  },
  {
   "cell_type": "markdown",
   "id": "7f8debbf",
   "metadata": {},
   "source": [
    "Math errors like division by zero can also happen"
   ]
  },
  {
   "cell_type": "code",
   "execution_count": null,
   "id": "f4114042",
   "metadata": {},
   "outputs": [],
   "source": [
    "1/0"
   ]
  },
  {
   "cell_type": "markdown",
   "id": "f1158116",
   "metadata": {},
   "source": [
    "Here we are trying to convert (cast) a sting to an integer but python doesn't know how to that"
   ]
  },
  {
   "cell_type": "code",
   "execution_count": null,
   "id": "95ad3955",
   "metadata": {},
   "outputs": [],
   "source": [
    "int('one hundred')"
   ]
  },
  {
   "cell_type": "markdown",
   "id": "7e6246bf",
   "metadata": {},
   "source": [
    "Often python codes contains checks to make sure the input to a function is correct. Here, for example, we compute the square root of a number. If the input is negative we raise an error"
   ]
  },
  {
   "cell_type": "code",
   "execution_count": null,
   "id": "0723b8ec",
   "metadata": {},
   "outputs": [],
   "source": [
    "def square_root(x):\n",
    "    if x < 0.:\n",
    "        raise RuntimeError(f'square_root() is defined only for positive values of x. The user called it with x = {x}')\n",
    "    return x ** (0.5)"
   ]
  },
  {
   "cell_type": "markdown",
   "id": "97b0ef55",
   "metadata": {},
   "source": [
    "If we call this function with `x = 4` all goes well"
   ]
  },
  {
   "cell_type": "code",
   "execution_count": null,
   "id": "ceac806d",
   "metadata": {},
   "outputs": [],
   "source": [
    "square_root(4)"
   ]
  },
  {
   "cell_type": "markdown",
   "id": "7bdd1870",
   "metadata": {},
   "source": [
    "However, with `x = -4` we get an error (and the error message at the end is the one defined in `square_root()`"
   ]
  },
  {
   "cell_type": "code",
   "execution_count": null,
   "id": "140c0304",
   "metadata": {},
   "outputs": [],
   "source": [
    "square_root(-4)"
   ]
  },
  {
   "cell_type": "markdown",
   "id": "263a7188",
   "metadata": {},
   "source": [
    "Warnings just warn you about something and are often included in python functions"
   ]
  },
  {
   "cell_type": "code",
   "execution_count": null,
   "id": "45c3ad24",
   "metadata": {},
   "outputs": [],
   "source": [
    "import warnings\n",
    "\n",
    "def outdated_function():\n",
    "    warnings.warn(\"this function is deprecated\", DeprecationWarning)\n",
    "    print('I still work')"
   ]
  },
  {
   "cell_type": "code",
   "execution_count": null,
   "id": "a2238792",
   "metadata": {},
   "outputs": [],
   "source": [
    "outdated_function()"
   ]
  },
  {
   "cell_type": "markdown",
   "id": "5853aadd",
   "metadata": {},
   "source": [
    "## Containers: Lists, tuples, dictionaries\n",
    "\n",
    "A common computational task is storing and processing data. Python offers several types of data structures:"
   ]
  },
  {
   "cell_type": "code",
   "execution_count": null,
   "id": "6714c4e4",
   "metadata": {},
   "outputs": [],
   "source": [
    "# A list\n",
    "l = [1,2,3,4,'dog', 3.1415]\n",
    "\n",
    "# A tuple \n",
    "t = (1,2,3,4,'dog', 3.1415)\n",
    "\n",
    "# A dictionary\n",
    "d = {'student id' : 11010001, 'student grade' : 'A', 'hello' : 'ciao', 'dog' : 'cane', 'cat' : 'gatto'}"
   ]
  },
  {
   "cell_type": "markdown",
   "id": "074d11f8",
   "metadata": {},
   "source": [
    "These serve different purposes and behave differently"
   ]
  },
  {
   "cell_type": "code",
   "execution_count": null,
   "id": "80d88730",
   "metadata": {},
   "outputs": [],
   "source": [
    "# list are quite practical because we can append elements ...\n",
    "l.append('cat')\n",
    "print(l)"
   ]
  },
  {
   "cell_type": "code",
   "execution_count": null,
   "id": "7f7505fe",
   "metadata": {},
   "outputs": [],
   "source": [
    "# ... and inspect elements\n",
    "l[0], l[2], l[4], l[6]"
   ]
  },
  {
   "cell_type": "markdown",
   "id": "19ef2813",
   "metadata": {},
   "source": [
    "A common error is looking up an element in a list that does not exist"
   ]
  },
  {
   "cell_type": "code",
   "execution_count": null,
   "id": "748ae1ed",
   "metadata": {},
   "outputs": [],
   "source": [
    "l[100]"
   ]
  },
  {
   "cell_type": "code",
   "execution_count": null,
   "id": "bda13901",
   "metadata": {},
   "outputs": [],
   "source": [
    "# tuples are immutable (they cannot be modified)\n",
    "t.append('cat')\n",
    "print(t)"
   ]
  },
  {
   "cell_type": "markdown",
   "id": "fd6dbaf9",
   "metadata": {},
   "source": [
    "Dictionaries store values/object based on keys"
   ]
  },
  {
   "cell_type": "code",
   "execution_count": null,
   "id": "50e9abe7",
   "metadata": {},
   "outputs": [],
   "source": [
    "d['student id']"
   ]
  },
  {
   "cell_type": "code",
   "execution_count": null,
   "id": "2210b3e3",
   "metadata": {},
   "outputs": [],
   "source": [
    "d['dog']"
   ]
  },
  {
   "cell_type": "markdown",
   "id": "e442f0fe",
   "metadata": {},
   "source": [
    "## Functions\n",
    "\n",
    "In python we can easily define new functions. For example let's write a function that takes an integer $n$ and computes $n^2 + 1$. We use the python command `def` to define a function and its arguments. Then we use `return` to return the result"
   ]
  },
  {
   "cell_type": "code",
   "execution_count": null,
   "id": "f9f8f1d7",
   "metadata": {},
   "outputs": [],
   "source": [
    "def f(n):\n",
    "    result = n ** 2 + 1\n",
    "    return result"
   ]
  },
  {
   "cell_type": "markdown",
   "id": "f3c13519",
   "metadata": {},
   "source": [
    "Let's test this function"
   ]
  },
  {
   "cell_type": "code",
   "execution_count": null,
   "id": "43ccd39c",
   "metadata": {},
   "outputs": [],
   "source": [
    "f(3)"
   ]
  },
  {
   "cell_type": "markdown",
   "id": "bc2d0e72",
   "metadata": {},
   "source": [
    "It works also for real numbers"
   ]
  },
  {
   "cell_type": "code",
   "execution_count": null,
   "id": "9edab212",
   "metadata": {},
   "outputs": [],
   "source": [
    "f(3.5)"
   ]
  },
  {
   "cell_type": "markdown",
   "id": "80deb808",
   "metadata": {},
   "source": [
    "but if we pass a string we'll get an error"
   ]
  },
  {
   "cell_type": "code",
   "execution_count": null,
   "id": "0024aa19",
   "metadata": {},
   "outputs": [],
   "source": [
    "f('hello')"
   ]
  },
  {
   "cell_type": "code",
   "execution_count": null,
   "id": "8c1026cc",
   "metadata": {},
   "outputs": [],
   "source": [
    "def compute_energy(mol):\n",
    "    e = psi4.energy('scf/def2-SVP',molecule=mol)\n",
    "    print(f\"The energy is {e:.6f}\")\n",
    "    return e"
   ]
  },
  {
   "cell_type": "code",
   "execution_count": null,
   "id": "2a628e1f",
   "metadata": {},
   "outputs": [],
   "source": [
    "import psi4\n",
    "\n",
    "def make_xyz(r):\n",
    "    return psi4.geometry(f\"\"\"\n",
    "H\n",
    "H 1 {r}\n",
    "\"\"\")\n",
    "\n",
    "compute_energy(make_xyz(1.0))"
   ]
  },
  {
   "cell_type": "markdown",
   "id": "ea1ec733",
   "metadata": {},
   "source": [
    "## Controlling the flow: loops, if, then, ...\n",
    "\n",
    "Here are some examples of the use of loop, if statements, and other ways to control the flow of a program. The `for` command allows us to go over all the elements of a container"
   ]
  },
  {
   "cell_type": "code",
   "execution_count": null,
   "id": "80ac1703",
   "metadata": {},
   "outputs": [],
   "source": [
    "# simple for loop\n",
    "for i in [0,1,2,3,4]:\n",
    "    print(i)"
   ]
  },
  {
   "cell_type": "markdown",
   "id": "6514908c",
   "metadata": {},
   "source": [
    "The next cell shows how to use ranges to define for loops. This is more efficient. The range object `range(5)` represents the integers $n$ in the range $0 \\leq n < 5$ (five excluded). We can convert to a list, or directly iterate over its elements with the `for` command:"
   ]
  },
  {
   "cell_type": "code",
   "execution_count": null,
   "id": "6592a6f5",
   "metadata": {},
   "outputs": [],
   "source": [
    "# simple for loop\n",
    "print('range(5) = ',range(5))\n",
    "print('list(range(5)) =',list(range(5)))\n",
    "\n",
    "for i in range(5):\n",
    "    print(f'The square of {i} is {i**2}')"
   ]
  },
  {
   "cell_type": "markdown",
   "id": "b510d97e",
   "metadata": {},
   "source": [
    "Range objects are customizable. Here we skip count by 3"
   ]
  },
  {
   "cell_type": "code",
   "execution_count": null,
   "id": "700d6025",
   "metadata": {},
   "outputs": [],
   "source": [
    "for i in range(0,13,3):\n",
    "    print(f'The square of {i} is {i**2}')"
   ]
  },
  {
   "cell_type": "markdown",
   "id": "746d51e6",
   "metadata": {
    "slideshow": {
     "slide_type": "slide"
    }
   },
   "source": [
    "If statements can be used to control the flow of a program"
   ]
  },
  {
   "cell_type": "code",
   "execution_count": null,
   "id": "bca5b51e",
   "metadata": {},
   "outputs": [],
   "source": [
    "def advice(hungry):\n",
    "    if hungry:\n",
    "        print('You should get a snack!')\n",
    "    else:\n",
    "        print('You don\\'t seem to be hungry.')\n",
    "              \n",
    "advice(True)\n",
    "advice(False)"
   ]
  },
  {
   "cell_type": "markdown",
   "id": "0fe3c02a",
   "metadata": {},
   "source": [
    "The following code illustrates a compact way to write `if` statements. In this case, if `n < 0` we return 0, otherwise we return 1"
   ]
  },
  {
   "cell_type": "code",
   "execution_count": null,
   "id": "d367c65c",
   "metadata": {},
   "outputs": [],
   "source": [
    "def step(n):\n",
    "    return 0 if n < 0 else 1\n",
    "\n",
    "print(step(-3))\n",
    "print(step(-1))\n",
    "print(step(0))\n",
    "print(step(1))\n",
    "print(step(3))"
   ]
  },
  {
   "cell_type": "markdown",
   "id": "e824ad68",
   "metadata": {},
   "source": [
    "## Text cells (Markdown)\n",
    "Jupyter notebook supports two types of cells: code and text. Text cells use the Markdown formatting language. The following are some examples of how to use Markdown. However, there are many comprehensive articles on the web, like [this one](https://towardsdatascience.com/write-markdown-latex-in-the-jupyter-notebook-10985edb91fd).\n",
    "\n",
    "### Plain text and style\n",
    "Plain text renders as it is typed. Text can be rendered in *italics* (surrounding text with a `*` sign, `*italics*`), **bold**  (using a `**`), and `code` style (using a \\` sign).\n",
    "\n",
    "### Mathematical symbols and equations\n",
    "\n",
    "Mathematical symbols can be entered using the LaTeX-style math command inside a `$ $` block, like `$\\sqrt{k}$` = $\\sqrt{k}$, `$\\frac{1}{2}$` = $\\frac{1}{2}$, $\\sum_{k=0}^{\\infty} \\frac{1}{k^2 + 1}$.\n",
    "\n",
    "Long equations are typed inside a `$$ $$` block, for example:\n",
    "$$\n",
    "\\hat{H} \\Psi(\\mathbf{r}) = E \\Psi(\\mathbf{r})\n",
    "$$\n",
    "\n",
    "Here are some useful LaTeX commands:\n",
    "- Fractions, `\\frac{a}{b}` ($\\frac{a}{b}$)\n",
    "- Superscript, `a^{-b}` ($a^{-b}$)\n",
    "- Subscript, `a_{b}` ($a_{b}$)\n",
    "- Bold math font, `\\mathbf{}` ($\\mathbf{r}$)\n",
    "- Square root, `\\sqrt{}` ($\\sqrt{\\pi}$)\n",
    "- Operator sign, `\\hat{}` ($\\hat{H}$)\n",
    "- Dots, `\\cdot, \\cdots` ($\\cdot, \\cdots$)\n",
    "- Greek letters, `\\alpha, \\beta, ..., \\Phi, \\Psi, ...` ($\\alpha, \\beta, ..., \\Phi, \\Psi, ...$)\n",
    "\n",
    "\n",
    "### Code\n",
    "You can insert snippet of code in your text with a triple quote block:\n",
    "\n",
    "```Python\n",
    "str = \"This is block level code\"\n",
    "print(str)\n",
    "```\n",
    "\n",
    "### Headings\n",
    "\n",
    "Text headings start with the hash symbol '#' followed by a space and the text. There are six headings with the largest heading only using one hash symbol and the smallest titles using six hash symbols.\n",
    "\n",
    "# H1\n",
    "## H2\n",
    "### H3\n",
    "#### H4\n"
   ]
  },
  {
   "cell_type": "markdown",
   "id": "7deefbb8",
   "metadata": {},
   "source": [
    "## Making plots with matplotlib\n",
    "\n",
    "The following are examples of plots of data made with the module matplotlib. The first is a scatter plot while the second one is a line plot. You can plot as many data sets as you want in one plot, just keep adding calls to the function `scatter` or `plot`.\n",
    "\n",
    "Note that here we can use LaTeX text (surrounded by the `$` signs) to include mathematical formulas"
   ]
  },
  {
   "cell_type": "code",
   "execution_count": null,
   "id": "aa6e761a",
   "metadata": {},
   "outputs": [],
   "source": [
    "from matplotlib import pyplot as plt\n",
    "%matplotlib notebook\n",
    "\n",
    "x = [1,2,3,4,5]\n",
    "y = [1,2,6,24,120]\n",
    "\n",
    "x2 = [1,3,5]\n",
    "y2 = [1,9,25]\n",
    "\n",
    "fig, ax = plt.subplots()\n",
    "ax.scatter(x,y,label='n!') # first set of data based on x and y lists\n",
    "ax.scatter(x2,y2,label='$n^2$') # second set of data based on x2 and y2 lists\n",
    "ax.set_ylabel('n!') # set the y-axis label\n",
    "ax.set_xlabel('n') # set the x-axis label\n",
    "ax.set_title('My plot ($n!$ and $n^2$)')  # set the plot title\n",
    "ax.legend() # add a legend so we can identify the different data sets\n",
    "plt.show() # plot the figure\n",
    "# plt.savefig('myfigure.pdf') # uncommend this line to save the plot to a pdf file"
   ]
  },
  {
   "cell_type": "markdown",
   "id": "8763184a",
   "metadata": {},
   "source": [
    "The next block of code demonstrates line plots"
   ]
  },
  {
   "cell_type": "code",
   "execution_count": null,
   "id": "4de5fb28",
   "metadata": {},
   "outputs": [],
   "source": [
    "from matplotlib import pyplot as plt\n",
    "%matplotlib notebook\n",
    "\n",
    "x = [0.6,0.7,0.8,1,2]\n",
    "y = [1,-2,-2.5,-2.0, -1]\n",
    "\n",
    "fig, ax = plt.subplots()\n",
    "ax.plot(x,y,label='Method X')\n",
    "ax.set_ylabel('Energy (E$_h$)')\n",
    "ax.set_xlabel('r (Å)')\n",
    "ax.set_title('Dissociation curve of A-B')\n",
    "ax.legend()\n",
    "plt.show()"
   ]
  }
 ],
 "metadata": {
  "kernelspec": {
   "display_name": "Python 3 (ipykernel)",
   "language": "python",
   "name": "python3"
  },
  "language_info": {
   "codemirror_mode": {
    "name": "ipython",
    "version": 3
   },
   "file_extension": ".py",
   "mimetype": "text/x-python",
   "name": "python",
   "nbconvert_exporter": "python",
   "pygments_lexer": "ipython3",
   "version": "3.9.12"
  }
 },
 "nbformat": 4,
 "nbformat_minor": 5
}
