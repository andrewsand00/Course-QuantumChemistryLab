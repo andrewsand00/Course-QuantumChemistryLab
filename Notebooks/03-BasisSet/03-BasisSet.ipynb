{
 "cells": [
  {
   "cell_type": "markdown",
   "metadata": {},
   "source": [
    "# Psi4 Tutorial 03: Basis sets\n",
    "\n",
    "In this tutorial you will learn more about basis sets"
   ]
  },
  {
   "cell_type": "code",
   "execution_count": 1,
   "metadata": {},
   "outputs": [],
   "source": [
    "import psi4"
   ]
  },
  {
   "cell_type": "markdown",
   "metadata": {},
   "source": [
    "## Basis set information and molecular orbital coefficients\n",
    "\n",
    "Let's run a Hartree–Fock computation on H$_2$ using the def2-SVP basis set. This basis is defined as:\n",
    "```\n",
    "H     0\n",
    "S   3   1.00\n",
    "     13.0107010       0.19682158E-01  |\n",
    "      1.9622572       0.13796524      | three s-type Gaussians combined to form one s orbital\n",
    "      0.44453796      0.47831935      | \n",
    "\n",
    "S   1   1.00\n",
    "      0.12194962      1.0000000       | one s-type Gaussian for a second s orbital\n",
    "\n",
    "P   1   1.00\n",
    "      0.8000000       1.0000000       | one set of 3 p-type Gaussians for a set of 3 p orbitals\n",
    "      \n",
    "          ^               ^\n",
    "       exponent      coefficient\n",
    "```      \n",
    "\n",
    "Here we add the option `PRINT_MOS` via\n",
    "```python\n",
    "psi4.set_options({'PRINT_MOS' : True})\n",
    "```\n",
    "When `PRINT_MOS` is set to `True`, psi4 will print the molecular orbital coefficient matrix ($C_{\\mu i}$) that tell us how the basis functions [$\\chi_\\mu(\\mathbf{r})$] are combined to form molecular orbitals [$\\phi(\\mathbf{r})_i$]:\n",
    "$$\n",
    "\\phi(\\mathbf{r})_i = \\sum_\\mu^{\\rm basis} \\chi_\\mu(\\mathbf{r}) C_{\\mu i}\n",
    "$$"
   ]
  },
  {
   "cell_type": "code",
   "execution_count": 2,
   "metadata": {},
   "outputs": [],
   "source": [
    "psi4.set_output_file('output.txt',False)\n",
    "\n",
    "psi4.geometry(\"\"\"\n",
    "H\n",
    "H 1 0.75\n",
    "symmetry c1\n",
    "\"\"\")\n",
    "\n",
    "# print the MO coefficients\n",
    "psi4.set_options({'PRINT_MOS' : True})\n",
    "\n",
    "e, wfn = psi4.energy('SCF/def2-SVP',return_wfn=True)"
   ]
  },
  {
   "cell_type": "markdown",
   "metadata": {
    "slideshow": {
     "slide_type": "slide"
    }
   },
   "source": [
    "If we examine the output file you will find a block that described the basis:\n",
    "```\n",
    "  ==> Primary Basis <==\n",
    "\n",
    "  Basis Set: DEF2-SVP\n",
    "    Blend: DEF2-SVP\n",
    "    Number of shells: 6\n",
    "    Number of basis functions: 10\n",
    "    Number of Cartesian functions: 10\n",
    "    Spherical Harmonics?: true\n",
    "    Max angular momentum: 1\n",
    "```\n",
    "This tells us that there are 10 basis function (`Number of basis functions: 10`) and that we are using up to p functions (`Max angular momentum: 1`).\n",
    "\n",
    "At the end of the computation we find the coefficient matrix $C_{\\mu i}$:\n",
    "```\n",
    " ==> Molecular Orbitals <==\n",
    "\n",
    "                            1            2            3            4            5\n",
    "\n",
    " 1    H1 s0         0.4034877    0.1449384    0.7040924    0.8728821    0.0000000\n",
    " 2    H1 s0         0.1756845    1.9219361   -0.7270797   -1.5827242   -0.0000000\n",
    " 3    H1 p0         0.0214187    0.0042600    0.0117829   -0.3296096   -0.0000000\n",
    " 4    H1 p+1       -0.0000000   -0.0000000    0.0000000   -0.0000000    0.1239586\n",
    " 5    H1 p-1       -0.0000000    0.0000000   -0.0000000   -0.0000000    0.5744515\n",
    " 6    H2 s0         0.4034877   -0.1449384    0.7040924   -0.8728821    0.0000000\n",
    " 7    H2 s0         0.1756845   -1.9219361   -0.7270797    1.5827242    0.0000000\n",
    " 8    H2 p0        -0.0214187    0.0042600   -0.0117829   -0.3296096   -0.0000000\n",
    " 9    H2 p+1       -0.0000000    0.0000000    0.0000000   -0.0000000    0.1239586\n",
    " 10   H2 p-1       -0.0000000   -0.0000000    0.0000000   -0.0000000    0.5744515\n",
    "\n",
    "            Ene    -0.5894693    0.1957203    0.4820146    0.9546651    1.4209743\n",
    "            Sym             A            A            A            A            A\n",
    "            Occ             2            0            0            0            0\n",
    "```\n",
    "\n",
    "On the left, you will find the list of atomic orbitals contained in the def2-SVP basis (`H1 s0`, `H1 s0`, `H1 p0`, etc.). Here `s0` stands for an s function, `p0,p+1,p-1` are **real combinations of spherical harmonic functions** and correspond to the `pz,px,py` orbitals (if you are curious about this point, check out the *Real orbitals* section of the wikipedia article https://en.wikipedia.org/wiki/Atomic_orbital).\n",
    "Since this basis contains two s function, there are four lines that correspond to s atomic orbitals on the two hydrogen atoms.\n",
    "Each column of numbers shows how these atomic orbitals are combined together to form a molecular orbital. For example, the first orbital is a combination of mostly s orbitals on the two hydrogens of the form\n",
    "$$\n",
    "\\phi_1(\\mathbf{r}) = 0.4034877 \\mu_{\\rm  H1 s0}(\\mathbf{r}) + 0.4034877 \\mu_{\\rm  H2 s0}(\\mathbf{r}) + 0.1756845 \\mu_{\\rm  H1 s0}(\\mathbf{r}) + 0.1756845 \\mu_{\\rm  H2 s0}(\\mathbf{r}) + \\ldots\n",
    "$$"
   ]
  },
  {
   "cell_type": "markdown",
   "metadata": {},
   "source": [
    "Information about the basis set can be retrieved from the wavefunction object returned by psi4. Here we call the function `nbf()`, which returns the number of basis functions"
   ]
  },
  {
   "cell_type": "code",
   "execution_count": 3,
   "metadata": {},
   "outputs": [
    {
     "name": "stdout",
     "output_type": "stream",
     "text": [
      "10\n"
     ]
    }
   ],
   "source": [
    "basis = wfn.basisset()\n",
    "nbf = basis.nbf()\n",
    "print(nbf)"
   ]
  },
  {
   "cell_type": "markdown",
   "metadata": {},
   "source": [
    "We can also visualize all the basis functions and orbitals. To do so we need to first generate grid representations of these quantities and then call `cubeprop`"
   ]
  },
  {
   "cell_type": "code",
   "execution_count": 4,
   "metadata": {},
   "outputs": [],
   "source": [
    "psi4.set_options({'CUBEPROP_TASKS' : ['BASIS_FUNCTIONS','ORBITALS']})\n",
    "psi4.cubeprop(wfn)"
   ]
  },
  {
   "cell_type": "markdown",
   "metadata": {},
   "source": [
    "Next, we can use `fortecubeview` to visualize them"
   ]
  },
  {
   "cell_type": "code",
   "execution_count": 5,
   "metadata": {},
   "outputs": [
    {
     "name": "stdout",
     "output_type": "stream",
     "text": [
      "CubeViewer: listing cube files from the directory .\n",
      "Reading 30 cube files\n"
     ]
    },
    {
     "name": "stderr",
     "output_type": "stream",
     "text": [
      "/Users/fevange/miniforge3/envs/forte/lib/python3.9/site-packages/jupyter_client/session.py:716: UserWarning: Message serialization failed with:\n",
      "Out of range float values are not JSON compliant\n",
      "Supporting this message is deprecated in jupyter-client 7, please make sure your message is JSON-compliant\n",
      "  content = self.pack(content)\n"
     ]
    },
    {
     "data": {
      "application/vnd.jupyter.widget-view+json": {
       "model_id": "1424b50dcdbc48fc99cd3042052faff8",
       "version_major": 2,
       "version_minor": 0
      },
      "text/plain": [
       "VBox(children=(HTML(value=''), Renderer(camera=OrthographicCamera(bottom=-5.0, children=(DirectionalLight(colo…"
      ]
     },
     "metadata": {},
     "output_type": "display_data"
    },
    {
     "data": {
      "application/vnd.jupyter.widget-view+json": {
       "model_id": "ea6bf7fe0e584d5380e3c41058785f00",
       "version_major": 2,
       "version_minor": 0
      },
      "text/plain": [
       "HTML(value='\\n        <style>\\n           .jupyter-widgets-output-area .output_scroll {\\n                heigh…"
      ]
     },
     "metadata": {},
     "output_type": "display_data"
    },
    {
     "data": {
      "application/vnd.jupyter.widget-view+json": {
       "model_id": "d22d9783443b41beb1b169cbe8a3acea",
       "version_major": 2,
       "version_minor": 0
      },
      "text/plain": [
       "interactive(children=(Select(description='Cube files:', options=('./Phi_1.cube', './Phi_10.cube', './Phi_2.cub…"
      ]
     },
     "metadata": {},
     "output_type": "display_data"
    },
    {
     "data": {
      "text/plain": [
       "<fortecubeview.cube_viewer.CubeViewer at 0x107f8bf70>"
      ]
     },
     "execution_count": 5,
     "metadata": {},
     "output_type": "execute_result"
    }
   ],
   "source": [
    "import fortecubeview\n",
    "fortecubeview.plot()"
   ]
  },
  {
   "cell_type": "markdown",
   "metadata": {},
   "source": [
    "---\n",
    "\n",
    "## Basis set extrapolation\n",
    "\n",
    "Psi allows us to easily compute the Hartree–Fock energy extrapolated to the complete basis set (CBS) limit. Here we compute the basis set limit of the neon atom.\n",
    "To request basis set extrapolation using the cc-pVTZ and cc-pVQZ basis set, we can call the energy function with the following input\n",
    "```python\n",
    "psi4.energy('SCF/cc-pV[TQ]Z')\n",
    "```\n",
    "Here `cc-pV[TQ]Z` means do an extrapolation using the cc-pVTZ and cc-pVQZ basis functions. This procedure computes the energy twice using the cc-pVTZ and cc-pVQZ basis sets and returns the extrapolated energy:"
   ]
  },
  {
   "cell_type": "code",
   "execution_count": null,
   "metadata": {},
   "outputs": [],
   "source": [
    "psi4.geometry(\"\"\"\n",
    "Ne\n",
    "\"\"\")\n",
    "\n",
    "e_tq = psi4.energy('SCF/cc-pV[TQ]Z')\n",
    "print(f'CBS estimate (TQ)  : {e_tq}')"
   ]
  },
  {
   "cell_type": "markdown",
   "metadata": {},
   "source": [
    "The extrapolated energy (-128.546295) is lower than the energy computed in the next cell using the cc-pVQZ basis (-128.543466)"
   ]
  },
  {
   "cell_type": "code",
   "execution_count": null,
   "metadata": {},
   "outputs": [],
   "source": [
    "psi4.geometry(\"\"\"\n",
    "Ne\n",
    "\"\"\")\n",
    "\n",
    "e_q = psi4.energy('SCF/cc-pVQZ')\n",
    "print(f'CBS estimate (TQ)  : {e_tq}')\n",
    "print(f'cc-pVQZ basis      : {e_q}')"
   ]
  },
  {
   "cell_type": "markdown",
   "metadata": {},
   "source": [
    "To get a value close to the extrapolated result we need to use a cc-pV5Z basis. Since this increases the cost of a computation, it is a less effective way to improve the accuracy of our computation"
   ]
  },
  {
   "cell_type": "code",
   "execution_count": null,
   "metadata": {},
   "outputs": [],
   "source": [
    "psi4.geometry(\"\"\"\n",
    "Ne\n",
    "\"\"\")\n",
    "\n",
    "e_5 = psi4.energy('SCF/cc-pV5Z')\n",
    "print(f'CBS estimate (TQ)  : {e_tq}')\n",
    "print(f'cc-pVQZ basis      : {e_q}')\n",
    "print(f'cc-pV5Z basis      : {e_5}')"
   ]
  }
 ],
 "metadata": {
  "kernelspec": {
   "display_name": "Python 3 (ipykernel)",
   "language": "python",
   "name": "python3"
  },
  "language_info": {
   "codemirror_mode": {
    "name": "ipython",
    "version": 3
   },
   "file_extension": ".py",
   "mimetype": "text/x-python",
   "name": "python",
   "nbconvert_exporter": "python",
   "pygments_lexer": "ipython3",
   "version": "3.9.12"
  }
 },
 "nbformat": 4,
 "nbformat_minor": 4
}
