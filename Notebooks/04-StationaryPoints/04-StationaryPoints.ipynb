{
 "cells": [
  {
   "cell_type": "markdown",
   "metadata": {},
   "source": [
    "# Psi4 Tutorial 04: Characterization of stationary points with a harmonic vibrational analysis\n",
    "\n",
    "In this tutorial you will learn how to determine if a stationary point obtained via geometry optimization is a local minimum or a transition state. We will do this by performing a vibrational analysis using the `psi4.frequency` command."
   ]
  },
  {
   "cell_type": "code",
   "execution_count": null,
   "metadata": {},
   "outputs": [],
   "source": [
    "import psi4"
   ]
  },
  {
   "cell_type": "markdown",
   "metadata": {},
   "source": [
    "## Ammonia inversion\n",
    "\n",
    "We will start with a very simple example. Let's consider the ammonia molecule and optimize its structure. Here we use a Z-matrix input to specify the geometry.\n",
    "\n",
    "### Equilibrium geometry\n",
    "\n",
    "First we start with the trigonal pyramidal, which is known to be the equilibrium geometry.\n",
    "We start by performing a geometry optimization. Note that we save the psi4 `Molecule` object to the variable `eq`, so that we can refer to this later.\n",
    "\n",
    "In this code the following line calls the `to_string` method of the `Molecule` object\n",
    "```python\n",
    "print(eq.to_string(dtype='xyz'))\n",
    "```\n",
    "to print the Cartesian coordinates of the geometry **before the optimization**."
   ]
  },
  {
   "cell_type": "code",
   "execution_count": null,
   "metadata": {},
   "outputs": [],
   "source": [
    "psi4.set_output_file(\"output.nh3.dat\")\n",
    "\n",
    "eq = psi4.geometry(\"\"\"\n",
    "0 1\n",
    "X\n",
    "N 1 1.0\n",
    "H 2 R 1 A\n",
    "H 2 R 1 A 3 D\n",
    "H 2 R 1 A 3 -D\n",
    "\n",
    "R = 1.000\n",
    "A = 120.0\n",
    "D = 120.0\n",
    "\"\"\")\n",
    "\n",
    "print(eq.to_string(dtype='xyz'))\n",
    "\n",
    "psi4.optimize('scf/def2-SVP',molecule=eq)"
   ]
  },
  {
   "cell_type": "markdown",
   "metadata": {},
   "source": [
    "To get the Cartesian coordinates of the **optimized geometry** we can call the `to_string` method again. This geometry is different from the one printed above, reflecting the changes that happen during the optimization process."
   ]
  },
  {
   "cell_type": "code",
   "execution_count": null,
   "metadata": {},
   "outputs": [],
   "source": [
    "print(eq.to_string(dtype='xyz'))"
   ]
  },
  {
   "cell_type": "markdown",
   "metadata": {},
   "source": [
    "### Normal mode computation\n",
    "\n",
    "To compute the Hessian and the corresponding vibrational frequencies, we call the `psi4.frequency` function. Before doing so we will set the psi4 option `NORMAL_MODES_WRITE` to `True` to tell psi4 to save the normal mode  information to a file:\n",
    "```python\n",
    "psi4.set_options({'NORMAL_MODES_WRITE' : True})\n",
    "```"
   ]
  },
  {
   "cell_type": "code",
   "execution_count": null,
   "metadata": {},
   "outputs": [],
   "source": [
    "# save the normal mode information\n",
    "psi4.set_options({'NORMAL_MODES_WRITE' : True})\n",
    "\n",
    "# run a frequency computation using the optimized geometry stored in the variable `eq`\n",
    "e_eq, wfn_eq = psi4.frequency('scf/def2-SVP',molecule=eq,return_wfn=True)"
   ]
  },
  {
   "cell_type": "markdown",
   "metadata": {},
   "source": [
    "From the wave function object (wfn) we can extract the vibrational frequencies (in cm$^{-1}$). Here we note that all frequencies are real, so **the optimized structure we found is a minimum**."
   ]
  },
  {
   "cell_type": "code",
   "execution_count": null,
   "metadata": {},
   "outputs": [],
   "source": [
    "# get the vibrational frequencies (in cm^-1) directly from the wavefunction object\n",
    "freqs = wfn_eq.frequencies().to_array()\n",
    "print(freqs)"
   ]
  },
  {
   "cell_type": "markdown",
   "metadata": {},
   "source": [
    "The results of the harmonic vibrational analysis are printed at the bottom of the output file"
   ]
  },
  {
   "cell_type": "code",
   "execution_count": null,
   "metadata": {},
   "outputs": [],
   "source": [
    "with open('output.nh3.dat','r') as f:\n",
    "    lines = f.readlines()[-118:]\n",
    "    print(''.join(lines))"
   ]
  },
  {
   "cell_type": "markdown",
   "metadata": {},
   "source": [
    "### Normal mode visualization\n",
    "\n",
    "To plot the normal modes you can use fortecubeview. The following lines allow us to read the normal modes generated in the frequency computation above. The syntax used here is a bit complicated because we have to compute the name of the file that stores this information (the name is different every time you run the frequency computation). If you plan on using this in your notebooks, just replace `eq` with the molecule object generated in your computation."
   ]
  },
  {
   "cell_type": "code",
   "execution_count": null,
   "metadata": {},
   "outputs": [],
   "source": [
    "import fortecubeview\n",
    "filename = f'{psi4.core.get_writer_file_prefix(eq.name())}.molden_normal_modes'\n",
    "fortecubeview.vib(filename)"
   ]
  },
  {
   "cell_type": "markdown",
   "metadata": {},
   "source": [
    "### Planar geometry\n",
    "\n",
    "Next, we will apply the vibrational analysis to the planar structure of ammonia (by setting the angle A to 90 degrees in the Z-matrix input)."
   ]
  },
  {
   "cell_type": "code",
   "execution_count": null,
   "metadata": {},
   "outputs": [],
   "source": [
    "psi4.set_output_file(\"output.nh3_ts.dat\")\n",
    "\n",
    "ts = psi4.geometry(\"\"\"\n",
    "0 1\n",
    "X\n",
    "N 1 1.0\n",
    "H 2 R 1 A\n",
    "H 2 R 1 A 3 D\n",
    "H 2 R 1 A 3 -D\n",
    "\n",
    "R = 1.000\n",
    "A = 90.0\n",
    "D = 120.0\n",
    "\"\"\")\n",
    "\n",
    "psi4.set_options({'NORMAL_MODES_WRITE' : True})\n",
    "\n",
    "print(ts.to_string(dtype='xyz'))\n",
    "\n",
    "psi4.optimize('scf/def2-SVP',molecule=ts)\n",
    "\n",
    "e_ts, wfn_ts = psi4.frequency('scf/def2-SVP',molecule=ts,return_wfn=True)"
   ]
  },
  {
   "cell_type": "markdown",
   "metadata": {},
   "source": [
    "The output `Warning: thermodynamics relations excluded imaginary frequencies: ['908.6689i']` warns us that psi4 has detected one imaginary frequency (about $908.7 i$ cm<sup>-1</sup>). We can check the output file (recommended) or use code like the one below that prints the frequencies:"
   ]
  },
  {
   "cell_type": "code",
   "execution_count": null,
   "metadata": {},
   "outputs": [],
   "source": [
    "freqs_ts = wfn_ts.frequencies().to_array()\n",
    "print(freqs_ts)\n",
    "\n",
    "with open('output.nh3_ts.dat','r') as f:\n",
    "    lines = f.readlines()[-118:]\n",
    "    print(''.join(lines))"
   ]
  },
  {
   "cell_type": "markdown",
   "metadata": {},
   "source": [
    "Now we can take a look at the vibrational modes stored in the `ts` geometry object. We will use the `fortecubeview` module (which we already imported above)."
   ]
  },
  {
   "cell_type": "code",
   "execution_count": null,
   "metadata": {},
   "outputs": [],
   "source": [
    "filename = f'{psi4.core.get_writer_file_prefix(ts.name())}.molden_normal_modes'\n",
    "fortecubeview.vib(filename)"
   ]
  },
  {
   "cell_type": "markdown",
   "metadata": {},
   "source": [
    "## The equilibrium structure of acetaldehyde\n",
    "\n",
    "We will now move to show a simple application of the computation of frequencies that shows how important it can be to check if an optimized molecular structure corresponds to a minimum or not. We will optimize and compute the frequencies of acetaldehyde:\n",
    "\n",
    "<img src=\"./c2h4o.png\" alt=\"c2h4o molecule\" width=\"150\"/>\n",
    "\n",
    "The following input is similar to the one used for ammonia."
   ]
  },
  {
   "cell_type": "code",
   "execution_count": null,
   "metadata": {},
   "outputs": [],
   "source": [
    "psi4.core.set_output_file('output.C2OH4.dat',False)\n",
    "\n",
    "mol = psi4.geometry(\"\"\"\n",
    "C       -1.4851649825      1.0105098419     -0.0136919013                 \n",
    "C       -1.4295256812     -0.4854850139      0.0016993677                 \n",
    "O       -2.5145012116      1.6407920050     -0.2333702113                 \n",
    "H       -0.4066169295     -0.8037578895      0.2192647845                 \n",
    "H       -1.7209386966     -0.8720278934     -0.9774425038                 \n",
    "H       -2.0934632091     -0.8677995447      0.7802096768                 \n",
    "H       -0.5331793331      1.5302219067      0.1868246310                 \n",
    "\"\"\")\n",
    "\n",
    "psi4.set_options({'NORMAL_MODES_WRITE' : True})\n",
    "\n",
    "psi4.optimize('scf/def2-SVP',molecule=mol)\n",
    "e_ac1, wfn_ac1=psi4.frequencies('scf/def2-SVP',return_wfn=True,molecule=mol)"
   ]
  },
  {
   "cell_type": "markdown",
   "metadata": {},
   "source": [
    "Surprisingly, we find that once we optimize the initial structure of acetaldehyde **we converge to a transition state geometry** (as indicated by the one imaginary frequency). Let's check the frequency analysis:"
   ]
  },
  {
   "cell_type": "code",
   "execution_count": null,
   "metadata": {},
   "outputs": [],
   "source": [
    "freqs = wfn_ac1.frequencies().to_array()\n",
    "print(freqs)\n",
    "\n",
    "with open('output.C2OH4.dat','r') as f:\n",
    "    lines = f.readlines()[-184:]\n",
    "    print(''.join(lines))"
   ]
  },
  {
   "cell_type": "markdown",
   "metadata": {},
   "source": [
    "What mode gives the imaginary frequency? If we visualize the normal modes we find that the imaginary mode corresponds to a rotation of the methyl group. Here the two hydrogen are eclypsed and this configuration is not a minimum."
   ]
  },
  {
   "cell_type": "code",
   "execution_count": null,
   "metadata": {},
   "outputs": [],
   "source": [
    "filename = f'{psi4.core.get_writer_file_prefix(mol.name())}.molden_normal_modes'\n",
    "fortecubeview.vib(filename)"
   ]
  },
  {
   "cell_type": "markdown",
   "metadata": {},
   "source": [
    "To find the minimum, we can rotate the C-C bond and reoptimize"
   ]
  },
  {
   "cell_type": "code",
   "execution_count": null,
   "metadata": {},
   "outputs": [],
   "source": [
    "psi4.core.set_output_file('output.C2OH4.2.dat',False)\n",
    "\n",
    "mol2 = psi4.geometry(\"\"\"\n",
    "C       -1.4851649825      1.0105098419     -0.0136919013                 \n",
    "C       -1.4295256812     -0.4854850139      0.0016993677                 \n",
    "O       -2.1398156566      1.6485701762     -0.8318353741                 \n",
    "H       -0.4066169295     -0.8037578895      0.2192647845                 \n",
    "H       -1.7209386966     -0.8720278934     -0.9774425038                 \n",
    "H       -2.0934632091     -0.8677995447      0.7802096768                 \n",
    "H       -0.8949834415      1.5227111606      0.7647165676                 \n",
    "\"\"\")\n",
    "\n",
    "psi4.optimize('scf/def2-SVP',molecule=mol2)\n",
    "e_2b,wfn_2b=psi4.frequencies('scf/def2-SVP',return_wfn=True,molecule=mol2)"
   ]
  },
  {
   "cell_type": "markdown",
   "metadata": {},
   "source": [
    "This frequency computaion does not show any imaginary frequency. The warning you may see (`Warning: used thermodynamics relations inappropriate for low-frequency modes: ['158.1215' '551.3462']`) just tells us that there are some low-energy frequencies."
   ]
  },
  {
   "cell_type": "code",
   "execution_count": null,
   "metadata": {
    "scrolled": false
   },
   "outputs": [],
   "source": [
    "filename = f'{psi4.core.get_writer_file_prefix(mol2.name())}.molden_normal_modes'\n",
    "fortecubeview.vib(filename)"
   ]
  },
  {
   "cell_type": "markdown",
   "metadata": {},
   "source": [
    "## Plotting the IR absorption spectrum\n",
    "\n",
    "Once you have performed a frequency computation, you can plot the IR spectrum of a molecule. This can be useful to compare your results to experimentally measured spectra.\n",
    "\n",
    "The following python function plots the frequencies by reading the output of a psi4 computation. Just specify the name of the output file like in the following line of python\n",
    "```python\n",
    "plot_freqs('output.C2OH4.2.dat')  \n",
    "```\n",
    "When you combine this with the normal mode analysis in fortecubeview you can then use computation to assign the peaks in the IR spectrum of a molecule to a specific motion of the atoms."
   ]
  },
  {
   "cell_type": "code",
   "execution_count": null,
   "metadata": {},
   "outputs": [],
   "source": [
    "def plot_freqs(filename):\n",
    "    \"\"\"\n",
    "    Function to plot the IR spectrum.\n",
    "\n",
    "    Usage: plot_freqs(filename)\n",
    "\n",
    "    Inputs: name of psi4 output file from SCF calculation\n",
    "    filename: name\n",
    "\n",
    "    Output: plot of the IR spectrum\n",
    "    \"\"\"\n",
    "\n",
    "    import math\n",
    "    import matplotlib.pyplot as plt\n",
    "\n",
    "    with open(filename) as f:\n",
    "        frequencies = []\n",
    "        intensities = []        \n",
    "        for line in f:\n",
    "            if 'Freq [cm^-1]' in line:\n",
    "                for val in [float(omega) for omega in line.split()[2:]]:\n",
    "                    frequencies.append(val)\n",
    "            if 'IR activ [km/mol]' in line:\n",
    "                for val in [float(omega) for omega in line.split()[3:]]:\n",
    "                    intensities.append(val)\n",
    "\n",
    "    xmin = min(min(frequencies),0.0)\n",
    "    xmax = max(frequencies) + 25.0\n",
    "    npoints = 600\n",
    "    alpha = 1.0 / 100.0\n",
    "    dx = (xmax - xmin)/ float(npoints)\n",
    "    xvals = [xmin + dx * i for i in range(npoints)]\n",
    "    yvals = []\n",
    "    for x in xvals:\n",
    "        y = 0.0\n",
    "        for f,i in zip(frequencies,intensities):\n",
    "            y += i * math.exp(- alpha * (x - f)**2)\n",
    "        yvals.append(y)\n",
    "\n",
    "    plt.plot(xvals,yvals)\n",
    "    plt.xlabel('wavelength (cm^-1)')\n",
    "    plt.ylabel('intensity (km/mol)')\n",
    "    plt.title('IR Spectrum')\n",
    "    plt.show() \n",
    "    \n",
    "plot_freqs('output.C2OH4.2.dat')   "
   ]
  }
 ],
 "metadata": {
  "kernelspec": {
   "display_name": "Python 3 (ipykernel)",
   "language": "python",
   "name": "python3"
  },
  "language_info": {
   "codemirror_mode": {
    "name": "ipython",
    "version": 3
   },
   "file_extension": ".py",
   "mimetype": "text/x-python",
   "name": "python",
   "nbconvert_exporter": "python",
   "pygments_lexer": "ipython3",
   "version": "3.9.12"
  }
 },
 "nbformat": 4,
 "nbformat_minor": 4
}
