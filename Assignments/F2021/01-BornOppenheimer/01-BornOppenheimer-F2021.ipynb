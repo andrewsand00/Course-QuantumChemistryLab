{
 "cells": [
  {
   "cell_type": "markdown",
   "metadata": {
    "nbgrader": {
     "grade": false,
     "grade_id": "cell-eeb5a6a9b59ed8c9",
     "locked": true,
     "schema_version": 3,
     "solution": false,
     "task": false
    }
   },
   "source": [
    "# CHEM-335LW —  Computational Assignment 01 | The Born–Oppenheimer approximation\n",
    "\n",
    "See Canvas for the due date.\n",
    "\n",
    "All the questions for this problem are contained in this jupyter notebook. To comple this assignment you must:\n",
    "1. Use this notebook to solve the computational problems using jupyter and psi4.\n",
    "2. Report your results *and* answers to the questions below in a Word document returned as a pdf. Use the template provided with this file to report your answers.\n",
    "3. Return a single pdf file that contains your answer and the jupyter notebooks."
   ]
  },
  {
   "cell_type": "markdown",
   "metadata": {},
   "source": [
    "---\n",
    "# Problem 1: Stability of the isomers of difluoroethylene\n",
    "\n",
    "Shown below are three isomers of difluoroethylene (C$_2$F$_2$H$_2$).\n",
    "\n",
    "<img src=\"./difluoroethylene.png\" alt=\"nh3 molecule\" width=\"400\"/>\n",
    "\n",
    "The goal of this problem is to use computational chemistry to determine the relative stability of these three species.\n",
    "\n",
    "In this problem we will use density functional theory (DFT) together with a split-valence basis set (def2-SVP). The details behind the method we use are not relevant for this exercise and will be discussed in future lectures.\n",
    "To perform your computations with this level of theory/basis set use the following command:\n",
    "```\n",
    "psi4.optimize('b3lyp/def2-SVP')\n",
    "```\n",
    "\n",
    "**Note that this computational procedure is different from the one we used in class for H$_2$**!"
   ]
  },
  {
   "cell_type": "markdown",
   "metadata": {},
   "source": [
    "---\n",
    "## a) Formulating a hypothesis\n",
    "\n",
    "Predict the relative stability (which isomer is most stable, which one the least, why?) of these three isomers using any criterion you think may be important (electrostatics, steric effects, delocalization, aromaticity, etc.). Explain how you derived your ordering.\n",
    "\n",
    "**It's important that you work on this part before you do the computations! Otherwise there would be not point in doing this part of the exercise.**  You don't need to be right, but you do need to make a sound argument."
   ]
  },
  {
   "cell_type": "markdown",
   "metadata": {},
   "source": [
    "---\n",
    "## b) Create initial geometries for the molecules\n",
    "\n",
    "In this step you will make initial structures for your molecules. It is important that you check the structure of a molecule before you run a computation. If you choose a structure that is incorrect psi4 may fail to optimize the geometry!\n",
    "\n",
    "1. Using Avogadro build starting geometries for the three isomers. \n",
    "2. Copy the Cartesian geometry to your answer (see example provided in the Word document). You can access the Cartesian coordinates via the menu: Build > Cartesian Editor ...\n",
    "3. From Avogadro take screen snapshots or export an image of your molecule and attach them to your answer (preferably with a white background which you can get via the menu: View > Set Background Color ...)"
   ]
  },
  {
   "cell_type": "markdown",
   "metadata": {
    "slideshow": {
     "slide_type": "slide"
    }
   },
   "source": [
    "---\n",
    "## c) Optimize the geometry\n",
    "Optimize the geometry of the three isomers of difluoroethylene. Note that these computations might take a couple of minutes each to run. You can run each computation in the same notebook or separately (just make sure to attach a pdf of your notebook as well).\n",
    "\n",
    "**Trans isomer**"
   ]
  },
  {
   "cell_type": "code",
   "execution_count": 1,
   "metadata": {},
   "outputs": [],
   "source": [
    "import psi4"
   ]
  },
  {
   "cell_type": "code",
   "execution_count": 4,
   "metadata": {},
   "outputs": [
    {
     "name": "stdout",
     "output_type": "stream",
     "text": [
      "Optimizer: Optimization complete!\n"
     ]
    }
   ],
   "source": [
    "# set the output file for this molecule\n",
    "psi4.core.set_output_file('trans.txt')\n",
    "\n",
    "psi4.geometry(\"\"\"\n",
    " C      -0.644    -0.111     0.135\n",
    " C       0.648     0.108    -0.117\n",
    " F      -1.184    -1.342     0.035\n",
    " F       1.181     1.344    -0.047\n",
    " H      -1.377     0.631     0.420\n",
    " H       1.379    -0.633    -0.408\n",
    "\"\"\")\n",
    "\n",
    "# optimize the geometry and save the equilibrium geometry to the variable 'energy_trans'\n",
    "energy_trans = psi4.optimize('scf/def2-SVP')"
   ]
  },
  {
   "cell_type": "code",
   "execution_count": 5,
   "metadata": {},
   "outputs": [
    {
     "data": {
      "text/plain": [
       "-275.5069187962887"
      ]
     },
     "execution_count": 5,
     "metadata": {},
     "output_type": "execute_result"
    }
   ],
   "source": [
    "energy_trans"
   ]
  },
  {
   "cell_type": "markdown",
   "metadata": {},
   "source": [
    "**Cis isomer**"
   ]
  },
  {
   "cell_type": "code",
   "execution_count": null,
   "metadata": {},
   "outputs": [],
   "source": [
    "# same as above, but remember to save the energy and output to a different variable/file\n",
    "psi4.core.set_output_file('cis.txt')\n",
    "\n",
    "# optimize the geometry and save it to the variable 'energy_cis'\n",
    "energy_cis = psi4.optimize('b3lyp/def2-SVP')"
   ]
  },
  {
   "cell_type": "markdown",
   "metadata": {},
   "source": [
    "**Gem isomer**"
   ]
  },
  {
   "cell_type": "code",
   "execution_count": null,
   "metadata": {},
   "outputs": [],
   "source": [
    "# fill in"
   ]
  },
  {
   "cell_type": "markdown",
   "metadata": {},
   "source": [
    "## c) Organize your data and compute the relative ordering of the isomers\n",
    "\n",
    "1. After you optimize the structure, copy the coordinates back to Avogadro to verify that you ended up with the correct isomer. Measure the C=C bond distance and report it in the table in the Word document.\n",
    "\n",
    "2. Determine which isomer is the most stable (has the lowest energy) and then for each isomer compute the relative energy, defined as\n",
    "$$\n",
    "\\Delta E_X = E_X - E_\\text{min}\n",
    "$$\n",
    "where $X$ is the energy of one of the isomers (trans, cis, gem) and $E_\\text{min}$ is the energy of the most stable isomer.\n",
    "\n",
    "3. To report these results, edit the table provided in the Word template and fill it with all entries.\n",
    "**Report energies in Hartree with 6 decimal places and energies in kcal/mol with 2 decimal places**. See Chapter 1 of the notes to find out how to convert Hartrees to kcal/mol."
   ]
  },
  {
   "cell_type": "markdown",
   "metadata": {},
   "source": [
    "# Problem 2: Questions\n",
    "## Answer the following questions in the Word document"
   ]
  },
  {
   "cell_type": "markdown",
   "metadata": {},
   "source": [
    "a) Write an equation that defines the Born-Oppenheimer approximation and explain the meaning of the symbols that enter into it.\n",
    "\n",
    "b) Using your own words, explain the **assumption(s)** made in the Born-Oppenheimer approximation and **its significance**.\n",
    "\n",
    "c) What mathematical condition defines a stationary point on the potential energy surface (you can use words to answer this questions)?"
   ]
  }
 ],
 "metadata": {
  "kernelspec": {
   "display_name": "Python 3 (ipykernel)",
   "language": "python",
   "name": "python3"
  },
  "language_info": {
   "codemirror_mode": {
    "name": "ipython",
    "version": 3
   },
   "file_extension": ".py",
   "mimetype": "text/x-python",
   "name": "python",
   "nbconvert_exporter": "python",
   "pygments_lexer": "ipython3",
   "version": "3.9.12"
  }
 },
 "nbformat": 4,
 "nbformat_minor": 4
}
