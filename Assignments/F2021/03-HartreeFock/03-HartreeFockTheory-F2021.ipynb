{
 "cells": [
  {
   "cell_type": "markdown",
   "metadata": {},
   "source": [
    "# CHEM-335LW —  Computational Assignment 03 | Hartree–Fock theory and characterization of stationary points\n",
    "\n",
    "See Canvas for the due date.\n",
    "\n",
    "All the questions for this problem are contained in this jupyter notebook. To comple this assignment you must:\n",
    "1. Solve the computational problems using jupyter and psi4.\n",
    "2. Report your work in a Word document returned as a pdf. Use the template provided with this file to report your answers.\n",
    "3. Return a single pdf file that contains your answer and the jupyter notebooks.\n",
    "\n",
    "---\n",
    "\n",
    "## Purpose of this assignment\n",
    "\n",
    "In this problem set you will learn how to:\n",
    "- Run the Hartree–Fock method on simple molecules\n",
    "- Make molecular orbital diagrams and plot molecular orbitals\n",
    "- Analyze and interpret the results of a Hartree–Fock computation computation\n",
    "- Use harmonic vibrational analysis to characterize stationary points"
   ]
  },
  {
   "cell_type": "markdown",
   "metadata": {},
   "source": [
    "## Problem 1: The electronic structure of methane according to Hartree–Fock theory\n",
    "\n",
    "Methane is the prototypical example of an organic compound in which the carbon forms four equivalent sp$^3$ hybrid C-H bonds. Is this what is predicted by MO theory? In this problem set you will use psi4 to build a molecular orbital diagram for methane and plot the valence orbitals.\n",
    "\n",
    "### a) Geometry optimization\n",
    "Build the structure of the methane molecule and optimize it at the Hartree–Fock level of theory using the def2-SVP basis set ('scf/def2-SVP'). Report the Cartesian coordinates, a 3D figure of the molecule, and the total energy (in hartree).\n",
    "\n",
    "### b) Molecular orbital diagram\n",
    "Using the orbital energies from you Hartree–Fock computation, build a molecular orbital diagram. A molecular orbital diagram is just a plot of the orbital energies in which the y axis stands for the energy. You do not need to draw the diagram on scale but the ordering of the orbitals has to be consistent with your computation. Indicate occupied orbitals with a line and two arrows, while empty orbitals just with a line. Label each orbital with its corresponding energy (in hartree). If two or more orbitals are degenerate, shows them as separate lines with the same y value. **It is enough if you show only the 9 lowest energy orbitals**.\n",
    "\n",
    "### c) Plot the orbitals\n",
    "Use the `psi4.cubeprop` command to generate cube files for occupied orbitals 2-5. Then plot them with the fortecubeview module. Take a snapshot of your orbitals and paste them into your answer.\n",
    "\n",
    "### d) Predict the ionization potential of methane and the stability of its anion\n",
    "Use Koopman's theorem predict the ionization potential for all the orbitals of methane (report your answers in eV). Compare your values to the experimental values reported by NIST (https://physics.nist.gov/cgi-bin/Ionization/table.pl?ionization=CH4). Is the ordering of the IPs consistent between theory and experiment?\n",
    "According to Koopman's theorem, is the anion CH$_4^{-}$ stable or does it decay to CH$_4$ + e$^{-}$?"
   ]
  },
  {
   "cell_type": "markdown",
   "metadata": {},
   "source": [
    "## Problem 2: Characterization of the conformational isomers of HOOF with a vibrational analysis\n",
    "\n",
    "In the previous assignement you computed the structure of the conformational isomers of HOOH. But how do we know if a stationary point is a minimum or a transition state? A frequency (or vibrational) analysis can help answer this question. In this problem you will repeat the same study for the molecule HOOF and use frequency computations to determined if a given conformer is a minimum or a transition state.\n",
    "\n",
    "\n",
    "\n",
    "The following python function will prepare a HOOF geometry with a H-O-O-F dihedral angle of `d` degrees:"
   ]
  },
  {
   "cell_type": "code",
   "execution_count": 1,
   "metadata": {},
   "outputs": [],
   "source": [
    "import psi4\n",
    "\n",
    "def geometry(d):\n",
    "    \"\"\"\n",
    "    This function returns the geometry of HOOF with a H-O-O-F dihedral angle of d degrees\n",
    "    \n",
    "    Parameters\n",
    "    ----------\n",
    "    d : float\n",
    "        The dihedral angle in degrees\n",
    "    \"\"\"\n",
    "    return psi4.geometry(f\"\"\"\n",
    "    0 1\n",
    "    O\n",
    "    O 1 1.4\n",
    "    H 2 1.0 1 100.0\n",
    "    F 1 1.4 2 100.0 3 D\n",
    "    D = {d:f}\n",
    "    symmetry c1\n",
    "    \"\"\")"
   ]
  },
  {
   "cell_type": "markdown",
   "metadata": {},
   "source": [
    "(*this function uses formatted python strings to generate a geometry with a user-specified value of D*)\n",
    "\n",
    "### a) Prepare inputs and optimize the geometry\n",
    "Use the `geometry` function to prepare inputs for psi4 using the following values of `d`: 0.0, 60.0, 120.0, 180.0. Optimize the geometry of all the candidate molecules at the `'b3lyp/def2-SVP'` level of theory. **Make sure you print out the geometry of the optimized molecule in you jupyter notebook for step b).** Report the Cartesian coordinates, a 3D figure of the molecule, and the total energy (in hartree).\n",
    "\n",
    "### b) Run a frequency computation on the unique stationary points\n",
    "For each **unique** optimized structure, perform a frequency computation and determine if it is a minimum or transition state (and report this in the table).\n",
    "\n",
    "### c) Analysis\n",
    "Fill in the table provided in the Word file, reporting the HOOF dihedral angle, the energy, and the energy difference between each optimized geometry and the lowest-lying conformer. Use the units indicated in the table.\n",
    "\n",
    "### d) Visualize\n",
    "Make a figure similar to the one displayed below that shows the relative energy (in kcal/mol) of the stationary points on the torsional PES of HOOF.\n",
    "\n",
    "<img src=\"pes.png\" width=300px>"
   ]
  },
  {
   "cell_type": "markdown",
   "metadata": {},
   "source": [
    "## What to watch out for in this assignment\n",
    "\n",
    "- A common mistake in P2 b) is to run a frequency computation on a non-stationary geometry. So make sure that you run your frequecy computation using the optimized structure. "
   ]
  }
 ],
 "metadata": {
  "kernelspec": {
   "display_name": "Python 3 (ipykernel)",
   "language": "python",
   "name": "python3"
  },
  "language_info": {
   "codemirror_mode": {
    "name": "ipython",
    "version": 3
   },
   "file_extension": ".py",
   "mimetype": "text/x-python",
   "name": "python",
   "nbconvert_exporter": "python",
   "pygments_lexer": "ipython3",
   "version": "3.9.12"
  }
 },
 "nbformat": 4,
 "nbformat_minor": 4
}
